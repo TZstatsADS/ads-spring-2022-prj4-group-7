{
 "cells": [
  {
   "cell_type": "code",
   "execution_count": 21,
   "metadata": {},
   "outputs": [],
   "source": [
    "import pandas as pd\n",
    "import numpy as np\n",
    "import sklearn\n",
    "from sklearn.model_selection import train_test_split\n",
    "from sklearn.model_selection import cross_val_score,StratifiedKFold\n",
    "from scipy import optimize\n",
    "from sklearn.preprocessing import StandardScaler\n",
    "#pip install DCCP\n",
    "import cvxpy as cp\n",
    "# pip install DCCP\n",
    "import dccp\n",
    "# ! pip install torch\n",
    "import torch"
   ]
  },
  {
   "cell_type": "code",
   "execution_count": 22,
   "metadata": {},
   "outputs": [],
   "source": [
    "import warnings\n",
    "warnings.filterwarnings('ignore')"
   ]
  },
  {
   "cell_type": "markdown",
   "metadata": {},
   "source": [
    "# Loading data"
   ]
  },
  {
   "cell_type": "code",
   "execution_count": 23,
   "metadata": {},
   "outputs": [],
   "source": [
    "data = pd.read_csv(\"../data/compas-scores-two-years.csv\")"
   ]
  },
  {
   "cell_type": "markdown",
   "metadata": {},
   "source": [
    "# Data processing"
   ]
  },
  {
   "cell_type": "markdown",
   "metadata": {},
   "source": [
    "## Chose useful rows and columns"
   ]
  },
  {
   "cell_type": "code",
   "execution_count": 24,
   "metadata": {},
   "outputs": [
    {
     "data": {
      "text/plain": [
       "(6129, 10)"
      ]
     },
     "execution_count": 24,
     "metadata": {},
     "output_type": "execute_result"
    }
   ],
   "source": [
    "data = data.loc[data['race'].isin(['African-American','Caucasian'])]\n",
    "data=data[[ 'sex','age', 'race', 'priors_count',\n",
    "             'c_charge_degree', 'c_charge_desc',\n",
    "             'start', 'end', 'event', 'two_year_recid']]\n",
    "data = data.dropna()\n",
    "data.shape"
   ]
  },
  {
   "cell_type": "code",
   "execution_count": 25,
   "metadata": {},
   "outputs": [
    {
     "data": {
      "text/html": [
       "<div>\n",
       "<style scoped>\n",
       "    .dataframe tbody tr th:only-of-type {\n",
       "        vertical-align: middle;\n",
       "    }\n",
       "\n",
       "    .dataframe tbody tr th {\n",
       "        vertical-align: top;\n",
       "    }\n",
       "\n",
       "    .dataframe thead th {\n",
       "        text-align: right;\n",
       "    }\n",
       "</style>\n",
       "<table border=\"1\" class=\"dataframe\">\n",
       "  <thead>\n",
       "    <tr style=\"text-align: right;\">\n",
       "      <th></th>\n",
       "      <th>sex</th>\n",
       "      <th>age</th>\n",
       "      <th>race</th>\n",
       "      <th>priors_count</th>\n",
       "      <th>c_charge_degree</th>\n",
       "      <th>c_charge_desc</th>\n",
       "      <th>start</th>\n",
       "      <th>end</th>\n",
       "      <th>event</th>\n",
       "      <th>two_year_recid</th>\n",
       "    </tr>\n",
       "  </thead>\n",
       "  <tbody>\n",
       "    <tr>\n",
       "      <th>1</th>\n",
       "      <td>Male</td>\n",
       "      <td>34</td>\n",
       "      <td>African-American</td>\n",
       "      <td>0</td>\n",
       "      <td>F</td>\n",
       "      <td>Felony Battery w/Prior Convict</td>\n",
       "      <td>9</td>\n",
       "      <td>159</td>\n",
       "      <td>1</td>\n",
       "      <td>1</td>\n",
       "    </tr>\n",
       "    <tr>\n",
       "      <th>2</th>\n",
       "      <td>Male</td>\n",
       "      <td>24</td>\n",
       "      <td>African-American</td>\n",
       "      <td>4</td>\n",
       "      <td>F</td>\n",
       "      <td>Possession of Cocaine</td>\n",
       "      <td>0</td>\n",
       "      <td>63</td>\n",
       "      <td>0</td>\n",
       "      <td>1</td>\n",
       "    </tr>\n",
       "    <tr>\n",
       "      <th>3</th>\n",
       "      <td>Male</td>\n",
       "      <td>23</td>\n",
       "      <td>African-American</td>\n",
       "      <td>1</td>\n",
       "      <td>F</td>\n",
       "      <td>Possession of Cannabis</td>\n",
       "      <td>0</td>\n",
       "      <td>1174</td>\n",
       "      <td>0</td>\n",
       "      <td>0</td>\n",
       "    </tr>\n",
       "    <tr>\n",
       "      <th>6</th>\n",
       "      <td>Male</td>\n",
       "      <td>41</td>\n",
       "      <td>Caucasian</td>\n",
       "      <td>14</td>\n",
       "      <td>F</td>\n",
       "      <td>Possession Burglary Tools</td>\n",
       "      <td>5</td>\n",
       "      <td>40</td>\n",
       "      <td>1</td>\n",
       "      <td>1</td>\n",
       "    </tr>\n",
       "    <tr>\n",
       "      <th>8</th>\n",
       "      <td>Female</td>\n",
       "      <td>39</td>\n",
       "      <td>Caucasian</td>\n",
       "      <td>0</td>\n",
       "      <td>M</td>\n",
       "      <td>Battery</td>\n",
       "      <td>2</td>\n",
       "      <td>747</td>\n",
       "      <td>0</td>\n",
       "      <td>0</td>\n",
       "    </tr>\n",
       "  </tbody>\n",
       "</table>\n",
       "</div>"
      ],
      "text/plain": [
       "      sex  age              race  priors_count c_charge_degree  \\\n",
       "1    Male   34  African-American             0               F   \n",
       "2    Male   24  African-American             4               F   \n",
       "3    Male   23  African-American             1               F   \n",
       "6    Male   41         Caucasian            14               F   \n",
       "8  Female   39         Caucasian             0               M   \n",
       "\n",
       "                    c_charge_desc  start   end  event  two_year_recid  \n",
       "1  Felony Battery w/Prior Convict      9   159      1               1  \n",
       "2           Possession of Cocaine      0    63      0               1  \n",
       "3          Possession of Cannabis      0  1174      0               0  \n",
       "6       Possession Burglary Tools      5    40      1               1  \n",
       "8                         Battery      2   747      0               0  "
      ]
     },
     "execution_count": 25,
     "metadata": {},
     "output_type": "execute_result"
    }
   ],
   "source": [
    "data.head()"
   ]
  },
  {
   "cell_type": "markdown",
   "metadata": {},
   "source": [
    "## Label"
   ]
  },
  {
   "cell_type": "code",
   "execution_count": 26,
   "metadata": {},
   "outputs": [],
   "source": [
    "label = data['two_year_recid']"
   ]
  },
  {
   "cell_type": "code",
   "execution_count": 27,
   "metadata": {},
   "outputs": [],
   "source": [
    "sf = (data[['race']]=='Caucasian').astype(int)\n",
    "sf.index = range(sf.shape[0])"
   ]
  },
  {
   "cell_type": "markdown",
   "metadata": {},
   "source": [
    "## Normalize numerical columns and encode categorical columns"
   ]
  },
  {
   "cell_type": "code",
   "execution_count": 28,
   "metadata": {},
   "outputs": [],
   "source": [
    "num = data._get_numeric_data()\n",
    "num = num.drop(labels='two_year_recid',axis=1)\n",
    "ss = StandardScaler()\n",
    "num_ss = ss.fit_transform(num)\n",
    "num = pd.DataFrame(num_ss,columns=num.columns)"
   ]
  },
  {
   "cell_type": "code",
   "execution_count": 29,
   "metadata": {},
   "outputs": [],
   "source": [
    "num_cols = data._get_numeric_data().columns\n",
    "cat = data.drop(columns = num_cols, axis = 1)\n",
    "cat = cat.drop(labels='race',axis=1)\n",
    "cat = pd.get_dummies(cat)\n",
    "cat.index = range(cat.shape[0])"
   ]
  },
  {
   "cell_type": "code",
   "execution_count": 30,
   "metadata": {},
   "outputs": [],
   "source": [
    "clean_data = pd.concat([sf,cat,num], axis=1)"
   ]
  },
  {
   "cell_type": "code",
   "execution_count": null,
   "metadata": {},
   "outputs": [],
   "source": []
  },
  {
   "cell_type": "code",
   "execution_count": null,
   "metadata": {},
   "outputs": [],
   "source": []
  },
  {
   "cell_type": "code",
   "execution_count": null,
   "metadata": {},
   "outputs": [],
   "source": []
  },
  {
   "cell_type": "code",
   "execution_count": null,
   "metadata": {},
   "outputs": [],
   "source": []
  },
  {
   "cell_type": "code",
   "execution_count": 31,
   "metadata": {},
   "outputs": [],
   "source": [
    "# row_data = pd.read_csv(\"../data/compas-scores-two-years.csv\")"
   ]
  },
  {
   "cell_type": "markdown",
   "metadata": {},
   "source": [
    "Here are all features of the dataset."
   ]
  },
  {
   "cell_type": "code",
   "execution_count": 32,
   "metadata": {
    "scrolled": true
   },
   "outputs": [],
   "source": [
    "# print(list(row_data.columns))"
   ]
  },
  {
   "cell_type": "markdown",
   "metadata": {},
   "source": [
    "And we decided to use these features, and they are\n",
    "\n",
    "**sex**: 0 is female, and 1 is male.\n",
    "\n",
    "**age_cat**: Age Category, 0 is less than 25, 1 is between 25 and 45, 2 is greater than 45\n",
    "\n",
    "**race**: Sensitive attribute. 0 is African-American, and 1 is Caucasian.\n",
    "\n",
    "**priors_count**: A continuous variable containing the number of prior crimes committed.  \n",
    "\n",
    "**c_charge_degree**: 0 is F, and 1 is M.\n",
    "\n",
    "**two_year_recid**: The response variable. Whether or not the defendant recidivated within two years.\n"
   ]
  },
  {
   "cell_type": "code",
   "execution_count": 33,
   "metadata": {},
   "outputs": [],
   "source": [
    "# selected_features = [\"sex\",\"age_cat\",\"race\",\"priors_count\",\"c_charge_degree\",\"two_year_recid\"]"
   ]
  },
  {
   "cell_type": "code",
   "execution_count": 34,
   "metadata": {},
   "outputs": [],
   "source": [
    "# clean_data = row_data[selected_features]\n",
    "# clean_data = clean_data[clean_data['race'].isin([\"African-American\",\"Caucasian\"])]\n",
    "\n",
    "# clean_data.replace('Male',1,inplace = True)\n",
    "# clean_data.replace('Female',0,inplace = True)\n",
    "\n",
    "# clean_data.replace('African-American',0,inplace = True)\n",
    "# clean_data.replace('Caucasian',1,inplace = True)\n",
    "\n",
    "# clean_data.replace('M',1,inplace = True)\n",
    "# clean_data.replace('F',0,inplace = True)\n",
    "\n",
    "# clean_data.replace('Less than 25',0,inplace = True)\n",
    "# clean_data.replace('25 - 45',1,inplace = True)\n",
    "# clean_data.replace('Greater than 45',2,inplace = True)"
   ]
  },
  {
   "cell_type": "markdown",
   "metadata": {},
   "source": [
    "We split the training set and testing set 6:1."
   ]
  },
  {
   "cell_type": "code",
   "execution_count": 35,
   "metadata": {},
   "outputs": [],
   "source": [
    "# x = clean_data[[\"sex\",\"age_cat\",\"race\",\"priors_count\",\"c_charge_degree\"]]\n",
    "# y = clean_data[\"two_year_recid\"]\n",
    "\n",
    "# x_train, x_test, y_train, y_test = train_test_split(x,y,test_size=1/7.0,random_state=1)"
   ]
  },
  {
   "cell_type": "code",
   "execution_count": null,
   "metadata": {},
   "outputs": [],
   "source": []
  },
  {
   "cell_type": "code",
   "execution_count": null,
   "metadata": {},
   "outputs": [],
   "source": []
  },
  {
   "cell_type": "code",
   "execution_count": null,
   "metadata": {},
   "outputs": [],
   "source": []
  },
  {
   "cell_type": "code",
   "execution_count": null,
   "metadata": {},
   "outputs": [],
   "source": []
  },
  {
   "cell_type": "code",
   "execution_count": null,
   "metadata": {},
   "outputs": [],
   "source": []
  },
  {
   "cell_type": "code",
   "execution_count": null,
   "metadata": {},
   "outputs": [],
   "source": []
  },
  {
   "cell_type": "code",
   "execution_count": 36,
   "metadata": {},
   "outputs": [],
   "source": [
    "clean_data = pd.concat([clean_data, label], axis=1)\n",
    "clean_data = clean_data.dropna()"
   ]
  },
  {
   "cell_type": "code",
   "execution_count": 37,
   "metadata": {},
   "outputs": [],
   "source": [
    "y = clean_data[\"two_year_recid\"]\n",
    "x = clean_data.drop(\"two_year_recid\", 1)\n",
    "\n",
    "x_train, x_test, y_train, y_test = train_test_split(x,y,test_size=1/7.0,random_state=1)"
   ]
  },
  {
   "cell_type": "markdown",
   "metadata": {},
   "source": [
    "This is the most important function for implementing algorithm A4."
   ]
  },
  {
   "cell_type": "code",
   "execution_count": 38,
   "metadata": {},
   "outputs": [],
   "source": [
    "def DM(x,y,method=0):\n",
    "    \n",
    "    # Method 0 is Unconstrained (original) classifier\n",
    "    # Method 1 is Disparate Mistreatment method (DM)\n",
    "    # Method 2 is Disparate Mistreatment method with sensitive features (DM_sen)\n",
    "    \n",
    "    # This function will return \"theta\" a list of parameters of logistic regression\n",
    "    \n",
    "    idx_0 = x[\"race\"] == 0   \n",
    "    idx_1 = x[\"race\"] == 1\n",
    "        \n",
    "    intercept = np.ones((x.shape[0],1))\n",
    "    x = np.concatenate((x,intercept),axis=1)\n",
    "    n = x.shape[0]\n",
    "    \n",
    "    theta = cp.Variable(x.shape[1])    \n",
    "    loss = -cp.sum(cp.multiply(y,x @ theta) - cp.logistic(x @ theta))\n",
    "    \n",
    "    if method == 0:\n",
    "        \n",
    "        ## Unconstrained (original) classifier (logistic regression)\n",
    "        \n",
    "        prob = cp.Problem(cp.Minimize(loss),[])\n",
    "        result = prob.solve(method = 'dccp')\n",
    "    \n",
    "    else:\n",
    "        x_0 = x[idx_0]\n",
    "        y_0 = y[idx_0]\n",
    "        n_0 = x_0.shape[0]\n",
    "\n",
    "        x_1 = x[idx_1]\n",
    "        y_1 = y[idx_1]\n",
    "        n_1 = x_1.shape[0]\n",
    "\n",
    "        if method == 1:\n",
    "            \n",
    "            ## It is Disparate Mistreatment method (DM), sensitive attribute information \n",
    "            ## is not used while making decisions, i.e., by keeping user feature vectors (x) \n",
    "            ## and the sensitive features (z) disjoint.\n",
    "            \n",
    "            x = np.delete(x,2,axis=1) \n",
    "            x_0 = np.delete(x_0,2,axis=1) \n",
    "            x_1 = np.delete(x_1,2,axis=1) \n",
    "            theta = cp.Variable(x.shape[1]) \n",
    "            loss = cp.sum(cp.logistic(x @ theta)- cp.multiply(y,x @ theta))        \n",
    "        \n",
    "        ## For method = 2, it is Disparate Mistreatment method with sensitive features (DM_sen).\n",
    "        ## The sensitive attribute information is used for decision making, resulting in \n",
    "        ## disparate treatment.\n",
    "\n",
    "        distance_0 = x_0 @ theta              \n",
    "        distance_1 = x_1 @ theta        \n",
    "\n",
    "        g_0 = cp.minimum(0, cp.multiply(y_0, distance_0)) \n",
    "        g_1 = cp.minimum(0, cp.multiply(y_1, distance_1)) \n",
    "\n",
    "        c = 0\n",
    "        constraints = []\n",
    "        ## For here, we need to put two DCCP expressions on both sides of the inequality sign\n",
    "        constraints.append( n_0/n * cp.sum(g_1) >= -c + n_1/n * cp.sum(g_0) )\n",
    "        constraints.append( n_0/n * cp.sum(g_1) <=  c + n_1/n * cp.sum(g_0) )\n",
    "\n",
    "        prob = cp.Problem(cp.Minimize(loss), constraints)\n",
    "        result = prob.solve(method='dccp')\n",
    "    \n",
    "    theta = np.array(theta.value)\n",
    "    \n",
    "    return theta          "
   ]
  },
  {
   "cell_type": "code",
   "execution_count": 39,
   "metadata": {},
   "outputs": [],
   "source": [
    "def sigmoid(z):\n",
    "    return 1/(1+np.exp(-z))\n",
    "def predict(x,theta,disjoint = 0):\n",
    "    \n",
    "    ## We can use disjoint = 0 to predict method 0 and method 2,\n",
    "    ## and use disjoint = 1 to predict method 1.\n",
    "    \n",
    "    x0 = np.ones((x.shape[0],1))\n",
    "    x = np.concatenate((x,x0),axis=1)\n",
    "    if disjoint != 0:\n",
    "        x = np.delete(x,2,axis=1) \n",
    "    z = np.dot(x,theta)\n",
    "    h = sigmoid(z)\n",
    "    pred = (h>0.5).astype(float)\n",
    "    return pred"
   ]
  },
  {
   "cell_type": "code",
   "execution_count": null,
   "metadata": {},
   "outputs": [],
   "source": []
  },
  {
   "cell_type": "code",
   "execution_count": 40,
   "metadata": {},
   "outputs": [],
   "source": [
    "idx_a = x_test[\"race\"] == 0   \n",
    "idx_c = x_test[\"race\"] == 1\n",
    "x_test_a = x_test[idx_a]\n",
    "y_test_a = y_test[idx_a]\n",
    "x_test_c = x_test[idx_c]\n",
    "y_test_c = y_test[idx_c]"
   ]
  },
  {
   "cell_type": "markdown",
   "metadata": {},
   "source": [
    "## 1. Unconstrained Classifier"
   ]
  },
  {
   "cell_type": "code",
   "execution_count": 41,
   "metadata": {},
   "outputs": [],
   "source": [
    "thetas = DM(x_train,y_train,method=0)"
   ]
  },
  {
   "cell_type": "code",
   "execution_count": 42,
   "metadata": {},
   "outputs": [
    {
     "name": "stdout",
     "output_type": "stream",
     "text": [
      "The accuracy of unconstrained logistic regression is 52.82%\n"
     ]
    }
   ],
   "source": [
    "acc = (predict(x_test,thetas)==y_test).mean()\n",
    "print(\"The accuracy of unconstrained logistic regression is %0.2f%%\" % (acc*100))"
   ]
  },
  {
   "cell_type": "markdown",
   "metadata": {},
   "source": [
    "The accuracy of unconstrained logistic regression is 66.55%"
   ]
  },
  {
   "cell_type": "code",
   "execution_count": 43,
   "metadata": {},
   "outputs": [
    {
     "data": {
      "text/plain": [
       "array([[174,  74],\n",
       "       [141,  59]], dtype=int64)"
      ]
     },
     "execution_count": 43,
     "metadata": {},
     "output_type": "execute_result"
    }
   ],
   "source": [
    "cm_a = sklearn.metrics.confusion_matrix(y_test_a,(predict(x_test_a,thetas)))\n",
    "cm_a  ## confusion matrix for African-American"
   ]
  },
  {
   "cell_type": "code",
   "execution_count": 44,
   "metadata": {},
   "outputs": [
    {
     "data": {
      "text/plain": [
       "array([[129,  32],\n",
       "       [104,  31]], dtype=int64)"
      ]
     },
     "execution_count": 44,
     "metadata": {},
     "output_type": "execute_result"
    }
   ],
   "source": [
    "cm_c = sklearn.metrics.confusion_matrix(y_test_c,(predict(x_test_c,thetas)))\n",
    "cm_c  ## confusion matrix for Caucasian"
   ]
  },
  {
   "cell_type": "code",
   "execution_count": 45,
   "metadata": {},
   "outputs": [
    {
     "name": "stdout",
     "output_type": "stream",
     "text": [
      "For African-American, the false positive rate of is 70.50%, and false negative rate is 29.84%\n",
      "For Caucasian       , the false positive rate of is 77.04%, and false negative rate is 19.88%\n",
      "The diffrent negative positives rate(D_FNR) is -6.54%, and the diffrent positive positives rate(D_FPR)is 9.96%\n"
     ]
    }
   ],
   "source": [
    "fnr_a = cm_a[0][1]/(cm_a[0][1]+cm_a[0][0]) \n",
    "fnr_c = cm_c[0][1]/(cm_c[0][1]+cm_c[0][0])\n",
    "fpr_a = cm_a[1][0]/(cm_a[1][1]+cm_a[1][0]) \n",
    "fpr_c = cm_c[1][0]/(cm_c[1][1]+cm_c[1][0])\n",
    "D_fnr = fnr_a - fnr_c\n",
    "D_fpr = fpr_a - fpr_c\n",
    "print(\"For African-American, the false positive rate of is %0.2f%%, and false negative rate is %0.2f%%\" % (fpr_a*100,fnr_a*100) ) \n",
    "print(\"For Caucasian       , the false positive rate of is %0.2f%%, and false negative rate is %0.2f%%\" % (fpr_c*100,fnr_c*100) ) \n",
    "print(\"The diffrent negative positives rate(D_FNR) is %0.2f%%, and the diffrent positive positives rate(D_FPR)is %0.2f%%\" % (D_fpr*100,D_fnr*100) ) "
   ]
  },
  {
   "cell_type": "markdown",
   "metadata": {},
   "source": [
    "The differce is so big, and we try to reduce it without significantly reducing the accuracy."
   ]
  },
  {
   "cell_type": "markdown",
   "metadata": {},
   "source": [
    "## 2. Disparate Mistreatment method (DM)"
   ]
  },
  {
   "cell_type": "markdown",
   "metadata": {},
   "source": [
    "We will use this to avoid disparate treatment and disparate mistreatment simultaneously. Disparate mistreatment is avoided by using fairness constraints. Disparate treatment is avoided by ensuring that sensitive attribute information is not used while making decisions, i.e., by keeping user feature vectors (x) and the sensitive features (z) disjoint"
   ]
  },
  {
   "cell_type": "code",
   "execution_count": 47,
   "metadata": {},
   "outputs": [],
   "source": [
    "thetas = DM(x_train,y_train,method=1)"
   ]
  },
  {
   "cell_type": "code",
   "execution_count": null,
   "metadata": {},
   "outputs": [],
   "source": [
    "acc = (predict(x_test,thetas,1)==y_test).mean()\n",
    "print(\"The accuracy of DM method is %0.2f%%\" % (acc*100))"
   ]
  },
  {
   "cell_type": "code",
   "execution_count": null,
   "metadata": {},
   "outputs": [],
   "source": [
    "cm_a = sklearn.metrics.confusion_matrix(y_test_a,(predict(x_test_a,thetas,1)))\n",
    "cm_a  ## confusion matrix for African-American"
   ]
  },
  {
   "cell_type": "code",
   "execution_count": null,
   "metadata": {},
   "outputs": [],
   "source": [
    "cm_c = sklearn.metrics.confusion_matrix(y_test_c,(predict(x_test_c,thetas,1)))\n",
    "cm_c  ## confusion matrix for Caucasian"
   ]
  },
  {
   "cell_type": "code",
   "execution_count": null,
   "metadata": {},
   "outputs": [],
   "source": [
    "fnr_a = cm_a[0][1]/(cm_a[0][1]+cm_a[0][0]) \n",
    "fnr_c = cm_c[0][1]/(cm_c[0][1]+cm_c[0][0])\n",
    "fpr_a = cm_a[1][0]/(cm_a[1][1]+cm_a[1][0]) \n",
    "fpr_c = cm_c[1][0]/(cm_c[1][1]+cm_c[1][0])\n",
    "D_fnr = fnr_a - fnr_c\n",
    "D_fpr = fpr_a - fpr_c\n",
    "print(\"For African-American, the false positive rate of is %0.2f%%, and false negative rate is %0.2f%%\" % (fpr_a*100,fnr_a*100) ) \n",
    "print(\"For Caucasian       , the false positive rate of is %0.2f%%, and false negative rate is %0.2f%%\" % (fpr_c*100,fnr_c*100) ) \n",
    "print(\"The diffrent negative positives rate(D_FNR) is %0.2f%%, and the diffrent positive positives rate(D_FPR)is %0.2f%%\" % (D_fpr*100,D_fnr*100) ) "
   ]
  },
  {
   "cell_type": "markdown",
   "metadata": {},
   "source": [
    "The accuracy decreased by 9%, but we succeeded in reducing the diffrence of FNR and diffrence of FPR a lot. It seems to be an acceptable method "
   ]
  },
  {
   "cell_type": "markdown",
   "metadata": {},
   "source": [
    "## 3. Disparate Mistreatment method with sensitive attribute (DM_sen)"
   ]
  },
  {
   "cell_type": "markdown",
   "metadata": {},
   "source": [
    "We will avoid disparate mistreatment only. The user feature vectors (x) and the sensitive features (z) are not disjoint, that is, z is used as a learnable feature. Therefore, the sensitive attribute information is used for decision making, resulting in disparate\n",
    "treatment."
   ]
  },
  {
   "cell_type": "code",
   "execution_count": null,
   "metadata": {},
   "outputs": [],
   "source": [
    "thetas = DM(x_train,y_train,method=2)"
   ]
  },
  {
   "cell_type": "code",
   "execution_count": null,
   "metadata": {},
   "outputs": [],
   "source": [
    "acc = (predict(x_test,thetas)==y_test).mean()\n",
    "print(\"The accuracy of DM method is %0.2f%%\" % (acc*100))"
   ]
  },
  {
   "cell_type": "code",
   "execution_count": null,
   "metadata": {},
   "outputs": [],
   "source": [
    "cm_a = sklearn.metrics.confusion_matrix(y_test_a,(predict(x_test_a,thetas)))\n",
    "cm_a  ## confusion matrix for African-American"
   ]
  },
  {
   "cell_type": "code",
   "execution_count": null,
   "metadata": {},
   "outputs": [],
   "source": [
    "cm_c = sklearn.metrics.confusion_matrix(y_test_c,(predict(x_test_c,thetas)))\n",
    "cm_c  ## confusion matrix for Caucasian"
   ]
  },
  {
   "cell_type": "code",
   "execution_count": null,
   "metadata": {},
   "outputs": [],
   "source": [
    "fnr_a = cm_a[0][1]/(cm_a[0][1]+cm_a[0][0]) \n",
    "fnr_c = cm_c[0][1]/(cm_c[0][1]+cm_c[0][0])\n",
    "fpr_a = cm_a[1][0]/(cm_a[1][1]+cm_a[1][0]) \n",
    "fpr_c = cm_c[1][0]/(cm_c[1][1]+cm_c[1][0])\n",
    "D_fnr = fnr_a - fnr_c\n",
    "D_fpr = fpr_a - fpr_c\n",
    "print(\"For African-American, the false positive rate of is %0.2f%%, and false negative rate is %0.2f%%\" % (fpr_a*100,fnr_a*100) ) \n",
    "print(\"For Caucasian       , the false positive rate of is %0.2f%%, and false negative rate is %0.2f%%\" % (fpr_c*100,fnr_c*100) ) \n",
    "print(\"The diffrent negative positives rate(D_FNR) is %0.2f%%, and the diffrent positive positives rate(D_FPR)is %0.2f%%\" % (D_fpr*100,D_fnr*100) ) "
   ]
  },
  {
   "cell_type": "markdown",
   "metadata": {},
   "source": [
    "For DM_sen, the accuracy only decreased by 1%, and the diffrence of FNR and diffrence of FPR reduce a lot. It is a very great method to avoid disparate mistreatment."
   ]
  }
 ],
 "metadata": {
  "hide_input": false,
  "kernelspec": {
   "display_name": "Python 3",
   "language": "python",
   "name": "python3"
  },
  "language_info": {
   "codemirror_mode": {
    "name": "ipython",
    "version": 3
   },
   "file_extension": ".py",
   "mimetype": "text/x-python",
   "name": "python",
   "nbconvert_exporter": "python",
   "pygments_lexer": "ipython3",
   "version": "3.8.3"
  }
 },
 "nbformat": 4,
 "nbformat_minor": 5
}
