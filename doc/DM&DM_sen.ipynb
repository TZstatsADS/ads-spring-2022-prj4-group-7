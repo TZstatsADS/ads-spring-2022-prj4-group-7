{
 "cells": [
  {
   "cell_type": "code",
   "execution_count": 1,
   "id": "7d817c6d",
   "metadata": {},
   "outputs": [],
   "source": [
    "import pandas as pd\n",
    "import numpy as np\n",
    "import sklearn\n",
    "import matplotlib.pyplot as plt\n",
    "from sklearn.model_selection import train_test_split\n",
    "from sklearn.model_selection import cross_val_score,StratifiedKFold\n",
    "from sklearn.preprocessing import StandardScaler\n",
    "from scipy import optimize\n",
    "#pip install cvxpy\n",
    "import cvxpy as cp\n",
    "# pip install DCCP\n",
    "import dccp"
   ]
  },
  {
   "cell_type": "code",
   "execution_count": 2,
   "id": "0a7efed0",
   "metadata": {},
   "outputs": [],
   "source": [
    "row_data = pd.read_csv(\"../compas-scores-two-years.csv\")"
   ]
  },
  {
   "cell_type": "markdown",
   "id": "efe5ca56",
   "metadata": {},
   "source": [
    "Here are all features of the dataset."
   ]
  },
  {
   "cell_type": "code",
   "execution_count": 3,
   "id": "c7137626",
   "metadata": {
    "scrolled": true
   },
   "outputs": [
    {
     "name": "stdout",
     "output_type": "stream",
     "text": [
      "['id', 'name', 'first', 'last', 'compas_screening_date', 'sex', 'dob', 'age', 'age_cat', 'race', 'juv_fel_count', 'decile_score', 'juv_misd_count', 'juv_other_count', 'priors_count', 'days_b_screening_arrest', 'c_jail_in', 'c_jail_out', 'c_case_number', 'c_offense_date', 'c_arrest_date', 'c_days_from_compas', 'c_charge_degree', 'c_charge_desc', 'is_recid', 'r_case_number', 'r_charge_degree', 'r_days_from_arrest', 'r_offense_date', 'r_charge_desc', 'r_jail_in', 'r_jail_out', 'violent_recid', 'is_violent_recid', 'vr_case_number', 'vr_charge_degree', 'vr_offense_date', 'vr_charge_desc', 'type_of_assessment', 'decile_score.1', 'score_text', 'screening_date', 'v_type_of_assessment', 'v_decile_score', 'v_score_text', 'v_screening_date', 'in_custody', 'out_custody', 'priors_count.1', 'start', 'end', 'event', 'two_year_recid']\n"
     ]
    }
   ],
   "source": [
    "print(list(row_data.columns))"
   ]
  },
  {
   "cell_type": "markdown",
   "id": "81ccdc41",
   "metadata": {},
   "source": [
    "And we decided to use these features, and they are\n",
    "\n",
    "**sex**: 0 is female, and 1 is male.\n",
    "\n",
    "**age_cat**: Age Category, 0 is less than 25, 1 is between 25 and 45, 2 is greater than 45\n",
    "\n",
    "**race**: Sensitive attribute. 0 is African-American, and 1 is Caucasian.\n",
    "\n",
    "**priors_count**: A continuous variable containing the number of prior crimes committed.  \n",
    "\n",
    "**c_charge_degree**: 0 is F, and 1 is M.\n",
    "\n",
    "**two_year_recid**: The response variable. Whether or not the defendant recidivated within two years.\n"
   ]
  },
  {
   "cell_type": "code",
   "execution_count": 4,
   "id": "48a8b8ee",
   "metadata": {},
   "outputs": [],
   "source": [
    "selected_features = [\"sex\",\"age_cat\",\"race\",\"priors_count\",\"c_charge_degree\",\"two_year_recid\"]"
   ]
  },
  {
   "cell_type": "code",
   "execution_count": 5,
   "id": "9f2e62ad",
   "metadata": {},
   "outputs": [],
   "source": [
    "clean_data = row_data[selected_features]\n",
    "clean_data = clean_data[clean_data['race'].isin([\"African-American\",\"Caucasian\"])]\n",
    "\n",
    "clean_data.replace('Male',1,inplace = True)\n",
    "clean_data.replace('Female',0,inplace = True)\n",
    "\n",
    "clean_data.replace('African-American',0,inplace = True)\n",
    "clean_data.replace('Caucasian',1,inplace = True)\n",
    "\n",
    "clean_data.replace('M',1,inplace = True)\n",
    "clean_data.replace('F',0,inplace = True)\n",
    "\n",
    "clean_data.replace('Less than 25',0,inplace = True)\n",
    "clean_data.replace('25 - 45',1,inplace = True)\n",
    "clean_data.replace('Greater than 45',2,inplace = True)"
   ]
  },
  {
   "cell_type": "markdown",
   "id": "3e53684c",
   "metadata": {},
   "source": [
    "We split the training set and testing set 6:1."
   ]
  },
  {
   "cell_type": "code",
   "execution_count": 6,
   "id": "7fbfdd4c",
   "metadata": {},
   "outputs": [],
   "source": [
    "x = clean_data[[\"sex\",\"age_cat\",\"race\",\"priors_count\",\"c_charge_degree\"]]\n",
    "y = clean_data[\"two_year_recid\"]\n",
    "\n",
    "x_train, x_test, y_train, y_test = train_test_split(x,y,test_size=1/7.0,random_state=1)"
   ]
  },
  {
   "cell_type": "markdown",
   "id": "5b92aacb",
   "metadata": {},
   "source": [
    "This is the most important function for implementing algorithm A4."
   ]
  },
  {
   "cell_type": "code",
   "execution_count": 7,
   "id": "a515c708",
   "metadata": {},
   "outputs": [],
   "source": [
    "def DM(x,y,method=0,c = 0):\n",
    "    \n",
    "    # Method 0 is Unconstrained (original) classifier\n",
    "    # Method 1 is Disparate Mistreatment method (DM)\n",
    "    # Method 2 is Disparate Mistreatment method with sensitive features (DM_sen)\n",
    "    \n",
    "    # \"c\" is the covariance between the users’sensitive attributes and the signed distance \n",
    "    # between the feature vectors of misclassified users and the classifier decision boundary\n",
    "    \n",
    "    # This function will return \"theta\" a list of parameters of logistic regression\n",
    "    \n",
    "    \n",
    "    idx_0 = x[\"race\"] == 0   \n",
    "    idx_1 = x[\"race\"] == 1\n",
    "        \n",
    "    intercept = np.ones((x.shape[0],1))\n",
    "    x = np.concatenate((x,intercept),axis=1)\n",
    "    n = x.shape[0]\n",
    "    c = n*c\n",
    "    \n",
    "    theta = cp.Variable(x.shape[1])    \n",
    "    loss = -cp.sum(cp.multiply(y,x @ theta) - cp.logistic(x @ theta))\n",
    "    \n",
    "    if method == 0:\n",
    "        \n",
    "        ## Unconstrained (original) classifier (logistic regression)\n",
    "        \n",
    "        prob = cp.Problem(cp.Minimize(loss),[])\n",
    "        result = prob.solve(method = 'dccp')\n",
    "    \n",
    "    else:\n",
    "        x_0 = x[idx_0]\n",
    "        y_0 = y[idx_0]\n",
    "        n_0 = x_0.shape[0]\n",
    "\n",
    "        x_1 = x[idx_1]\n",
    "        y_1 = y[idx_1]\n",
    "        n_1 = x_1.shape[0]\n",
    "\n",
    "        if method == 1:\n",
    "            \n",
    "            ## It is Disparate Mistreatment method (DM), sensitive attribute information \n",
    "            ## is not used while making decisions, i.e., by keeping user feature vectors (x) \n",
    "            ## and the sensitive features (z) disjoint.\n",
    "            \n",
    "            x = np.delete(x,2,axis=1) \n",
    "            x_0 = np.delete(x_0,2,axis=1) \n",
    "            x_1 = np.delete(x_1,2,axis=1) \n",
    "            theta = cp.Variable(x.shape[1]) \n",
    "            loss = cp.sum(cp.logistic(x @ theta)- cp.multiply(y,x @ theta))        \n",
    "        \n",
    "        ## For method = 2, it is Disparate Mistreatment method with sensitive features (DM_sen).\n",
    "        ## The sensitive attribute information is used for decision making, resulting in \n",
    "        ## disparate treatment.\n",
    "\n",
    "        distance_0 = x_0 @ theta              \n",
    "        distance_1 = x_1 @ theta        \n",
    "\n",
    "        g_0 = cp.minimum(0, cp.multiply(y_0, distance_0)) \n",
    "        g_1 = cp.minimum(0, cp.multiply(y_1, distance_1)) \n",
    "\n",
    "        constraints = []\n",
    "        ## For here, we need to put two DCCP expressions on both sides of the inequality sign\n",
    "        constraints.append( n_0/n * cp.sum(g_1) >= -c + n_1/n * cp.sum(g_0) )\n",
    "        constraints.append( n_0/n * cp.sum(g_1) <=  c + n_1/n * cp.sum(g_0) )\n",
    "\n",
    "        prob = cp.Problem(cp.Minimize(loss), constraints)\n",
    "        result = prob.solve(method='dccp')\n",
    "    \n",
    "    theta = np.array(theta.value)\n",
    "    \n",
    "    return theta          "
   ]
  },
  {
   "cell_type": "code",
   "execution_count": 8,
   "id": "91345d05",
   "metadata": {},
   "outputs": [],
   "source": [
    "def sigmoid(z):\n",
    "    return 1/(1+np.exp(-z))\n",
    "def predict(x,theta,disjoint = 0):\n",
    "    \n",
    "    ## We can use disjoint = 0 to predict method 0 and method 2,\n",
    "    ## and use disjoint = 1 to predict method 1.\n",
    "    \n",
    "    x0 = np.ones((x.shape[0],1))\n",
    "    x = np.concatenate((x,x0),axis=1)\n",
    "    if disjoint != 0:\n",
    "        x = np.delete(x,2,axis=1) \n",
    "    z = np.dot(x,theta)\n",
    "    h = sigmoid(z)\n",
    "    pred = (h>0.5).astype(float)\n",
    "    return pred"
   ]
  },
  {
   "cell_type": "code",
   "execution_count": 9,
   "id": "265fa681",
   "metadata": {},
   "outputs": [],
   "source": [
    "idx_a = x_test[\"race\"] == 0   \n",
    "idx_c = x_test[\"race\"] == 1\n",
    "x_test_a = x_test[idx_a]\n",
    "y_test_a = y_test[idx_a]\n",
    "x_test_c = x_test[idx_c]\n",
    "y_test_c = y_test[idx_c]"
   ]
  },
  {
   "cell_type": "code",
   "execution_count": 10,
   "id": "30727bce",
   "metadata": {},
   "outputs": [],
   "source": [
    "def fnr(y_true,y_pred):\n",
    "    cm = sklearn.metrics.confusion_matrix(y_true,y_pred)\n",
    "    return cm[0][1]/(cm[0][1]+cm[0][0]) \n",
    "def fpr(y_true,y_pred):\n",
    "    cm = sklearn.metrics.confusion_matrix(y_true,y_pred)\n",
    "    return cm[1][0]/(cm[1][1]+cm[1][0]) "
   ]
  },
  {
   "cell_type": "code",
   "execution_count": 11,
   "id": "4a3fb09f",
   "metadata": {},
   "outputs": [],
   "source": [
    "def stat(cm_a,cm_c):\n",
    "    fnr_a = cm_a[0][1]/(cm_a[0][1]+cm_a[0][0]) \n",
    "    fnr_c = cm_c[0][1]/(cm_c[0][1]+cm_c[0][0])\n",
    "    fpr_a = cm_a[1][0]/(cm_a[1][1]+cm_a[1][0]) \n",
    "    fpr_c = cm_c[1][0]/(cm_c[1][1]+cm_c[1][0])\n",
    "    acc_a = (cm_a[0][0]+ cm_a[1][1])/(cm_a[0][1]+cm_a[0][0] + cm_a[1][1]+cm_a[1][0]) \n",
    "    acc_c = (cm_c[0][0]+ cm_c[1][1])/(cm_c[0][1]+cm_c[0][0] + cm_c[1][1]+cm_c[1][0]) \n",
    "    acc = (cm_a[0][0]+ cm_a[1][1]+cm_c[0][0]+ cm_c[1][1])/(cm_a[0][1]+cm_a[0][0] + cm_a[1][1]+cm_a[1][0]+cm_c[0][1]+cm_c[0][0] + cm_c[1][1]+cm_c[1][0]) \n",
    "    D_fnr = fnr_a - fnr_c\n",
    "    D_fpr = fpr_a - fpr_c\n",
    "    calibration = abs(acc_a-acc_c)\n",
    "    dic = {'fnr_a':fnr_a,'fnr_c':fnr_c,'fpr_a':fpr_a,'fpr_c':fpr_c,'acc_a':acc_a,\n",
    "           'acc_c':acc_c,'acc':acc,'D_fnr':D_fnr,'D_fpr':D_fpr,'calibration':calibration}\n",
    "    print(\"For African-American, the false positive rate of is %0.2f%%, false negative rate is %0.2f%%, and the accuracy is %0.2f%%.\" % (fpr_a*100,fnr_a*100,acc_a*100) ) \n",
    "    print(\"For Caucasian       , the false positive rate of is %0.2f%%, false negative rate is %0.2f%%, and the accuracy is %0.2f%%.\" % (fpr_c*100,fnr_c*100,acc_c*100) ) \n",
    "    print(\"The diffrent negative positives rate(D_FNR) is %0.2f%%, and the diffrent positive positives rate(D_FPR)is %0.2f%%\" % (D_fpr*100,D_fnr*100) ) \n",
    "    print(\"The accuracy is %0.2f%%, and the calibration is %0.2f%%\" % (acc*100,calibration*100) ) \n",
    "    return dic"
   ]
  },
  {
   "cell_type": "markdown",
   "id": "b85bfa55",
   "metadata": {},
   "source": [
    "## 1. Unconstrained Classifier"
   ]
  },
  {
   "cell_type": "code",
   "execution_count": 12,
   "id": "ab37b026",
   "metadata": {},
   "outputs": [],
   "source": [
    "thetas = DM(x_train,y_train,method=0)"
   ]
  },
  {
   "cell_type": "code",
   "execution_count": 13,
   "id": "220213ab",
   "metadata": {},
   "outputs": [
    {
     "data": {
      "text/plain": [
       "array([[173,  94],\n",
       "       [ 95, 184]], dtype=int64)"
      ]
     },
     "execution_count": 13,
     "metadata": {},
     "output_type": "execute_result"
    }
   ],
   "source": [
    "cm_a = sklearn.metrics.confusion_matrix(y_test_a,(predict(x_test_a,thetas)))\n",
    "cm_a  ## confusion matrix for African-American"
   ]
  },
  {
   "cell_type": "code",
   "execution_count": 14,
   "id": "3b899547",
   "metadata": {},
   "outputs": [
    {
     "data": {
      "text/plain": [
       "array([[177,  23],\n",
       "       [ 82,  51]], dtype=int64)"
      ]
     },
     "execution_count": 14,
     "metadata": {},
     "output_type": "execute_result"
    }
   ],
   "source": [
    "cm_c = sklearn.metrics.confusion_matrix(y_test_c,(predict(x_test_c,thetas)))\n",
    "cm_c  ## confusion matrix for Caucasian"
   ]
  },
  {
   "cell_type": "code",
   "execution_count": 15,
   "id": "3851fa50",
   "metadata": {},
   "outputs": [
    {
     "name": "stdout",
     "output_type": "stream",
     "text": [
      "For African-American, the false positive rate of is 34.05%, false negative rate is 35.21%, and the accuracy is 65.38%.\n",
      "For Caucasian       , the false positive rate of is 61.65%, false negative rate is 11.50%, and the accuracy is 68.47%.\n",
      "The diffrent negative positives rate(D_FNR) is -27.60%, and the diffrent positive positives rate(D_FPR)is 23.71%\n",
      "The accuracy is 66.55%, and the calibration is 3.08%\n"
     ]
    }
   ],
   "source": [
    "statistics = stat(cm_a,cm_c) "
   ]
  },
  {
   "cell_type": "markdown",
   "id": "56168770",
   "metadata": {},
   "source": [
    "The differce is big, and we try to reduce it without significantly reducing the accuracy."
   ]
  },
  {
   "cell_type": "markdown",
   "id": "01e50868",
   "metadata": {},
   "source": [
    "## 2. Disparate Mistreatment method (DM)"
   ]
  },
  {
   "cell_type": "markdown",
   "id": "e0dc8d1a",
   "metadata": {},
   "source": [
    "We will use this to avoid disparate treatment and disparate mistreatment simultaneously. Disparate mistreatment is avoided by using fairness constraints. Disparate treatment is avoided by ensuring that sensitive attribute information is not used while making decisions, i.e., by keeping user feature vectors (x) and the sensitive features (z) disjoint"
   ]
  },
  {
   "cell_type": "code",
   "execution_count": 16,
   "id": "f940c5aa",
   "metadata": {},
   "outputs": [],
   "source": [
    "thetas = DM(x_train,y_train,method=1,c=0.004)"
   ]
  },
  {
   "cell_type": "code",
   "execution_count": 17,
   "id": "2f8a11ed",
   "metadata": {},
   "outputs": [
    {
     "data": {
      "text/plain": [
       "array([[133, 134],\n",
       "       [ 55, 224]], dtype=int64)"
      ]
     },
     "execution_count": 17,
     "metadata": {},
     "output_type": "execute_result"
    }
   ],
   "source": [
    "cm_a = sklearn.metrics.confusion_matrix(y_test_a,(predict(x_test_a,thetas,1)))\n",
    "cm_a  ## confusion matrix for African-American"
   ]
  },
  {
   "cell_type": "code",
   "execution_count": 18,
   "id": "b64435d9",
   "metadata": {},
   "outputs": [
    {
     "data": {
      "text/plain": [
       "array([[131,  69],\n",
       "       [ 46,  87]], dtype=int64)"
      ]
     },
     "execution_count": 18,
     "metadata": {},
     "output_type": "execute_result"
    }
   ],
   "source": [
    "cm_c = sklearn.metrics.confusion_matrix(y_test_c,(predict(x_test_c,thetas,1)))\n",
    "cm_c  ## confusion matrix for Caucasian"
   ]
  },
  {
   "cell_type": "code",
   "execution_count": 19,
   "id": "1bb0c47b",
   "metadata": {},
   "outputs": [
    {
     "name": "stdout",
     "output_type": "stream",
     "text": [
      "For African-American, the false positive rate of is 19.71%, false negative rate is 50.19%, and the accuracy is 65.38%.\n",
      "For Caucasian       , the false positive rate of is 34.59%, false negative rate is 34.50%, and the accuracy is 65.47%.\n",
      "The diffrent negative positives rate(D_FNR) is -14.87%, and the diffrent positive positives rate(D_FPR)is 15.69%\n",
      "The accuracy is 65.42%, and the calibration is 0.08%\n"
     ]
    }
   ],
   "source": [
    "statistics = stat(cm_a,cm_c)"
   ]
  },
  {
   "cell_type": "markdown",
   "id": "b285acb3",
   "metadata": {},
   "source": [
    "The accuracy decreased by 1%, but we succeeded in reducing the diffrence of FNR and diffrence of FPR a lot. It is a great method."
   ]
  },
  {
   "cell_type": "code",
   "execution_count": 20,
   "id": "b8635892",
   "metadata": {},
   "outputs": [],
   "source": [
    "thetas_2 = [None]*50\n",
    "for c in range(50):\n",
    "    thetas_2[c] = DM(x_train,y_train,method=1,c=c*3/5000)"
   ]
  },
  {
   "cell_type": "code",
   "execution_count": 21,
   "id": "d9a2186c",
   "metadata": {},
   "outputs": [],
   "source": [
    "acc = np.zeros(50)\n",
    "C = np.zeros(50)\n",
    "calibration = np.zeros(50)\n",
    "d_fnr = np.zeros(50)\n",
    "d_fpr = np.zeros(50)\n",
    "\n",
    "for c in range(50):\n",
    "    C[c] = c*3/5000\n",
    "    acc[c] = (predict(x_test,thetas_2[c],1) == y_test).mean()\n",
    "    acc_a = (predict(x_test_a,thetas_2[c],1) == y_test_a).mean()\n",
    "    acc_c = (predict(x_test_c,thetas_2[c],1) == y_test_c).mean()\n",
    "    calibration[c] = abs(acc_a-acc_c)\n",
    "    d_fnr[c] = fnr(y_test_a, predict(x_test_a,thetas_2[c],1)) - fnr(y_test_c, predict(x_test_c,thetas_2[c],1))\n",
    "    d_fpr[c] = fpr(y_test_a, predict(x_test_a,thetas_2[c],1)) - fpr(y_test_c, predict(x_test_c,thetas_2[c],1))"
   ]
  },
  {
   "cell_type": "code",
   "execution_count": 22,
   "id": "4d8d88e3",
   "metadata": {},
   "outputs": [
    {
     "data": {
      "image/png": "[encoded data removed]",
      "text/plain": [
       "<Figure size 432x288 with 1 Axes>"
      ]
     },
     "metadata": {
      "needs_background": "light"
     },
     "output_type": "display_data"
    }
   ],
   "source": [
    "plt.plot(C,d_fnr);\n",
    "plt.title('Different of FNR');"
   ]
  },
  {
   "cell_type": "code",
   "execution_count": 23,
   "id": "c97779b6",
   "metadata": {},
   "outputs": [
    {
     "data": {
      "image/png": "[encoded data removed]",
      "text/plain": [
       "<Figure size 432x288 with 1 Axes>"
      ]
     },
     "metadata": {
      "needs_background": "light"
     },
     "output_type": "display_data"
    }
   ],
   "source": [
    "plt.plot(C,d_fpr);\n",
    "plt.title('Different of FPR');"
   ]
  },
  {
   "cell_type": "code",
   "execution_count": 24,
   "id": "122da342",
   "metadata": {},
   "outputs": [
    {
     "data": {
      "image/png": "[encoded data removed]",
      "text/plain": [
       "<Figure size 432x288 with 1 Axes>"
      ]
     },
     "metadata": {
      "needs_background": "light"
     },
     "output_type": "display_data"
    }
   ],
   "source": [
    "plt.plot(C,acc);\n",
    "plt.title('Accuracy');"
   ]
  },
  {
   "cell_type": "code",
   "execution_count": 25,
   "id": "07024435",
   "metadata": {},
   "outputs": [
    {
     "data": {
      "image/png": "[encoded data removed]",
      "text/plain": [
       "<Figure size 432x288 with 1 Axes>"
      ]
     },
     "metadata": {
      "needs_background": "light"
     },
     "output_type": "display_data"
    }
   ],
   "source": [
    "plt.plot(C,calibration);\n",
    "plt.title('Calibration');"
   ]
  },
  {
   "cell_type": "markdown",
   "id": "1e75c4cf",
   "metadata": {},
   "source": [
    "## 3. Disparate Mistreatment method with sensitive attribute (DM_sen)"
   ]
  },
  {
   "cell_type": "markdown",
   "id": "83a4f8ab",
   "metadata": {},
   "source": [
    "We will avoid disparate mistreatment only. The user feature vectors (x) and the sensitive features (z) are not disjoint, that is, z is used as a learnable feature. Therefore, the sensitive attribute information is used for decision making, resulting in disparate\n",
    "treatment."
   ]
  },
  {
   "cell_type": "code",
   "execution_count": 26,
   "id": "a16d77c7",
   "metadata": {},
   "outputs": [],
   "source": [
    "thetas = DM(x_train,y_train,method=2,c=0.02)"
   ]
  },
  {
   "cell_type": "code",
   "execution_count": 27,
   "id": "1d6adbc6",
   "metadata": {},
   "outputs": [
    {
     "data": {
      "text/plain": [
       "array([[173,  94],\n",
       "       [ 95, 184]], dtype=int64)"
      ]
     },
     "execution_count": 27,
     "metadata": {},
     "output_type": "execute_result"
    }
   ],
   "source": [
    "cm_a = sklearn.metrics.confusion_matrix(y_test_a,(predict(x_test_a,thetas)))\n",
    "cm_a  ## confusion matrix for African-American"
   ]
  },
  {
   "cell_type": "code",
   "execution_count": 28,
   "id": "4edddba5",
   "metadata": {},
   "outputs": [
    {
     "data": {
      "text/plain": [
       "array([[177,  23],\n",
       "       [ 82,  51]], dtype=int64)"
      ]
     },
     "execution_count": 28,
     "metadata": {},
     "output_type": "execute_result"
    }
   ],
   "source": [
    "cm_c = sklearn.metrics.confusion_matrix(y_test_c,(predict(x_test_c,thetas)))\n",
    "cm_c  ## confusion matrix for Caucasian"
   ]
  },
  {
   "cell_type": "code",
   "execution_count": 29,
   "id": "861bb6ee",
   "metadata": {},
   "outputs": [
    {
     "name": "stdout",
     "output_type": "stream",
     "text": [
      "For African-American, the false positive rate of is 34.05%, false negative rate is 35.21%, and the accuracy is 65.38%.\n",
      "For Caucasian       , the false positive rate of is 61.65%, false negative rate is 11.50%, and the accuracy is 68.47%.\n",
      "The diffrent negative positives rate(D_FNR) is -27.60%, and the diffrent positive positives rate(D_FPR)is 23.71%\n",
      "The accuracy is 66.55%, and the calibration is 3.08%\n"
     ]
    }
   ],
   "source": [
    "statistics = stat(cm_a,cm_c)"
   ]
  },
  {
   "cell_type": "markdown",
   "id": "cd420850",
   "metadata": {},
   "source": [
    "For DM_sen, the accuracy only decreased by 1%, and the diffrence of FNR and diffrence of FPR reduce a lot. It is a very great method to avoid disparate mistreatment."
   ]
  },
  {
   "cell_type": "code",
   "execution_count": 30,
   "id": "178fad82",
   "metadata": {},
   "outputs": [],
   "source": [
    "thetas_3 = [None]*50\n",
    "for c in range(50):\n",
    "    thetas_3[c] = DM(x_train,y_train,method=2,c=c*3/5000)"
   ]
  },
  {
   "cell_type": "code",
   "execution_count": 31,
   "id": "4c045643",
   "metadata": {},
   "outputs": [],
   "source": [
    "for c in range(50):\n",
    "    C[c] = c*3/5000\n",
    "    acc[c] = (predict(x_test,thetas_3[c]) == y_test).mean()\n",
    "    acc_a = (predict(x_test_a,thetas_3[c]) == y_test_a).mean()\n",
    "    acc_c = (predict(x_test_c,thetas_3[c]) == y_test_c).mean()\n",
    "    calibration[c] = abs(acc_a-acc_c)\n",
    "    d_fnr[c] = fnr(y_test_a, predict(x_test_a,thetas_3[c])) - fnr(y_test_c, predict(x_test_c,thetas_3[c]))\n",
    "    d_fpr[c] = fpr(y_test_a, predict(x_test_a,thetas_3[c])) - fpr(y_test_c, predict(x_test_c,thetas_3[c]))"
   ]
  },
  {
   "cell_type": "code",
   "execution_count": 32,
   "id": "cb2a4d45",
   "metadata": {},
   "outputs": [
    {
     "data": {
      "image/png": "[encoded data removed]",
      "text/plain": [
       "<Figure size 432x288 with 1 Axes>"
      ]
     },
     "metadata": {
      "needs_background": "light"
     },
     "output_type": "display_data"
    }
   ],
   "source": [
    "plt.plot(C,d_fpr);\n",
    "plt.title('Different of FPR');"
   ]
  },
  {
   "cell_type": "code",
   "execution_count": 33,
   "id": "065c3c22",
   "metadata": {},
   "outputs": [
    {
     "data": {
      "image/png": "[encoded data removed]",
      "text/plain": [
       "<Figure size 432x288 with 1 Axes>"
      ]
     },
     "metadata": {
      "needs_background": "light"
     },
     "output_type": "display_data"
    }
   ],
   "source": [
    "plt.plot(C,d_fnr);\n",
    "plt.title('Different of FNR');"
   ]
  },
  {
   "cell_type": "code",
   "execution_count": 34,
   "id": "1f1fe409",
   "metadata": {},
   "outputs": [
    {
     "data": {
      "image/png": "[encoded data removed]",
      "text/plain": [
       "<Figure size 432x288 with 1 Axes>"
      ]
     },
     "metadata": {
      "needs_background": "light"
     },
     "output_type": "display_data"
    }
   ],
   "source": [
    "plt.plot(C,acc);\n",
    "plt.title('Accuracy');"
   ]
  },
  {
   "cell_type": "code",
   "execution_count": 35,
   "id": "381ae1b8",
   "metadata": {},
   "outputs": [
    {
     "data": {
      "image/png": "[encoded data removed]",
      "text/plain": [
       "<Figure size 432x288 with 1 Axes>"
      ]
     },
     "metadata": {
      "needs_background": "light"
     },
     "output_type": "display_data"
    }
   ],
   "source": [
    "plt.plot(C,calibration);\n",
    "plt.title('Calibration');"
   ]
  }
 ],
 "metadata": {
  "kernelspec": {
   "display_name": "Python 3 (ipykernel)",
   "language": "python",
   "name": "python3"
  },
  "language_info": {
   "codemirror_mode": {
    "name": "ipython",
    "version": 3
   },
   "file_extension": ".py",
   "mimetype": "text/x-python",
   "name": "python",
   "nbconvert_exporter": "python",
   "pygments_lexer": "ipython3",
   "version": "3.9.4"
  }
 },
 "nbformat": 4,
 "nbformat_minor": 5
}
