{
 "cells": [
  {
   "cell_type": "code",
   "execution_count": 1,
   "id": "ce43ff88",
   "metadata": {
    "ExecuteTime": {
     "end_time": "2022-04-12T04:11:29.134789Z",
     "start_time": "2022-04-12T04:11:28.169957Z"
    }
   },
   "outputs": [],
   "source": [
    "import pandas as pd\n",
    "import numpy as np\n",
    "import sklearn\n",
    "import matplotlib.pyplot as plt\n",
    "from sklearn.model_selection import train_test_split\n",
    "from sklearn.model_selection import cross_val_score,StratifiedKFold\n",
    "from sklearn.preprocessing import StandardScaler\n",
    "from sklearn.metrics import normalized_mutual_info_score\n",
    "from scipy.stats import entropy\n",
    "\n",
    "#pip install cvxpy\n",
    "import cvxpy as cp\n",
    "# pip install DCCP\n",
    "import dccp"
   ]
  },
  {
   "cell_type": "code",
   "execution_count": 2,
   "id": "0f5595eb",
   "metadata": {
    "ExecuteTime": {
     "end_time": "2022-04-12T04:11:33.721909Z",
     "start_time": "2022-04-12T04:11:33.645499Z"
    }
   },
   "outputs": [],
   "source": [
    "data = pd.read_csv(\"../data/compas-scores-two-years.csv\")"
   ]
  },
  {
   "cell_type": "code",
   "execution_count": 3,
   "id": "781285e7",
   "metadata": {
    "ExecuteTime": {
     "end_time": "2022-04-12T04:11:38.250849Z",
     "start_time": "2022-04-12T04:11:38.242394Z"
    }
   },
   "outputs": [
    {
     "data": {
      "text/plain": [
       "(6150, 8)"
      ]
     },
     "execution_count": 3,
     "metadata": {},
     "output_type": "execute_result"
    }
   ],
   "source": [
    "data = data.loc[data['race'].isin(['African-American','Caucasian'])]\n",
    "data=data[[ 'sex','age', 'race', 'priors_count',\n",
    "             'c_charge_degree', \n",
    "             'start', 'end', 'two_year_recid']]\n",
    "data = data.dropna()\n",
    "data.shape"
   ]
  },
  {
   "cell_type": "code",
   "execution_count": 4,
   "id": "7921e9bf",
   "metadata": {
    "ExecuteTime": {
     "end_time": "2022-04-12T04:11:42.862247Z",
     "start_time": "2022-04-12T04:11:42.859354Z"
    }
   },
   "outputs": [],
   "source": [
    "label = data['two_year_recid']"
   ]
  },
  {
   "cell_type": "code",
   "execution_count": 5,
   "id": "4d2ba4de",
   "metadata": {
    "ExecuteTime": {
     "end_time": "2022-04-12T04:11:48.675444Z",
     "start_time": "2022-04-12T04:11:48.667093Z"
    }
   },
   "outputs": [],
   "source": [
    "sf = (data[['race']]=='Caucasian').astype(int)\n",
    "sf.index = range(sf.shape[0])"
   ]
  },
  {
   "cell_type": "code",
   "execution_count": 6,
   "id": "c5b77ace",
   "metadata": {
    "ExecuteTime": {
     "end_time": "2022-04-12T04:11:52.965099Z",
     "start_time": "2022-04-12T04:11:52.951150Z"
    }
   },
   "outputs": [],
   "source": [
    "num = data._get_numeric_data()\n",
    "num = num.drop(labels='two_year_recid',axis=1)\n",
    "ss = StandardScaler()\n",
    "num_ss = ss.fit_transform(num)\n",
    "num = pd.DataFrame(num_ss,columns=num.columns)"
   ]
  },
  {
   "cell_type": "code",
   "execution_count": 7,
   "id": "df8d5859",
   "metadata": {
    "ExecuteTime": {
     "end_time": "2022-04-12T04:11:58.210704Z",
     "start_time": "2022-04-12T04:11:58.198998Z"
    }
   },
   "outputs": [],
   "source": [
    "num_cols = data._get_numeric_data().columns\n",
    "cat = data.drop(columns = num_cols, axis = 1)\n",
    "cat = cat.drop(labels='race',axis=1)\n",
    "cat = pd.get_dummies(cat)\n",
    "cat.index = range(cat.shape[0])"
   ]
  },
  {
   "cell_type": "code",
   "execution_count": 8,
   "id": "03d81b4a",
   "metadata": {
    "ExecuteTime": {
     "end_time": "2022-04-12T04:12:03.164676Z",
     "start_time": "2022-04-12T04:12:03.160297Z"
    }
   },
   "outputs": [],
   "source": [
    "clean_data = pd.concat([sf,cat,num], axis=1)"
   ]
  },
  {
   "cell_type": "code",
   "execution_count": 9,
   "id": "0c366fc6",
   "metadata": {
    "ExecuteTime": {
     "end_time": "2022-04-12T04:12:09.318618Z",
     "start_time": "2022-04-12T04:12:09.310596Z"
    }
   },
   "outputs": [],
   "source": [
    "x_train, x_test, y_train, y_test = train_test_split(clean_data,label,test_size=1/7)"
   ]
  },
  {
   "cell_type": "markdown",
   "id": "38a80059",
   "metadata": {},
   "source": [
    "This is the most important function for implementing algorithm A4."
   ]
  },
  {
   "cell_type": "code",
   "execution_count": 10,
   "id": "d51affdd",
   "metadata": {
    "ExecuteTime": {
     "end_time": "2022-04-12T04:12:52.500708Z",
     "start_time": "2022-04-12T04:12:52.475517Z"
    }
   },
   "outputs": [],
   "source": [
    "def DM(x,y,method=0,c = 0):\n",
    "    \n",
    "    # Method 0 is Unconstrained (original) classifier\n",
    "    # Method 1 is Disparate Mistreatment method (DM)\n",
    "    # Method 2 is Disparate Mistreatment method with sensitive features (DM_sen)\n",
    "    \n",
    "    # \"c\" is the covariance between the users’sensitive attributes and the signed distance \n",
    "    # between the feature vectors of misclassified users and the classifier decision boundary\n",
    "    \n",
    "    # This function will return \"theta\" a list of parameters of logistic regression\n",
    "    \n",
    "    \n",
    "    idx_0 = x[\"race\"] == 0\n",
    "    idx_1 = x[\"race\"] == 1\n",
    "        \n",
    "    intercept = np.ones((x.shape[0],1))\n",
    "    x = np.concatenate((x,intercept),axis=1)\n",
    "    n = x.shape[0]\n",
    "    c = n*c\n",
    "    \n",
    "    theta = cp.Variable(x.shape[1])    \n",
    "    loss = -cp.sum(cp.multiply(y,x @ theta) - cp.logistic(x @ theta))\n",
    "    \n",
    "    if method == 0:\n",
    "        \n",
    "        ## Unconstrained (original) classifier (logistic regression)\n",
    "        \n",
    "        prob = cp.Problem(cp.Minimize(loss),[])\n",
    "        result = prob.solve(method = 'dccp')\n",
    "    \n",
    "    else:\n",
    "        x_0 = x[idx_0.values]\n",
    "        y_0 = y[idx_0.values]\n",
    "        n_0 = x_0.shape[0]\n",
    "\n",
    "        x_1 = x[idx_1.values]\n",
    "        y_1 = y[idx_1.values]\n",
    "        n_1 = x_1.shape[0]\n",
    "\n",
    "        if method == 1:\n",
    "            \n",
    "            ## It is Disparate Mistreatment method (DM), sensitive attribute information \n",
    "            ## is not used while making decisions, i.e., by keeping user feature vectors (x) \n",
    "            ## and the sensitive features (z) disjoint.\n",
    "            \n",
    "            x = np.delete(x,2,axis=1) \n",
    "            x_0 = np.delete(x_0,2,axis=1) \n",
    "            x_1 = np.delete(x_1,2,axis=1) \n",
    "            theta = cp.Variable(x.shape[1]) \n",
    "            loss = cp.sum(cp.logistic(x @ theta)- cp.multiply(y,x @ theta))        \n",
    "        \n",
    "        ## For method = 2, it is Disparate Mistreatment method with sensitive features (DM_sen).\n",
    "        ## The sensitive attribute information is used for decision making, resulting in \n",
    "        ## disparate treatment.\n",
    "\n",
    "        distance_0 = x_0 @ theta              \n",
    "        distance_1 = x_1 @ theta        \n",
    "\n",
    "        g_0 = cp.minimum(0, cp.multiply(y_0, distance_0)) \n",
    "        g_1 = cp.minimum(0, cp.multiply(y_1, distance_1)) \n",
    "\n",
    "        constraints = []\n",
    "        ## For here, we need to put two DCCP expressions on both sides of the inequality sign\n",
    "        constraints.append( n_0/n * cp.sum(g_1) >= -c + n_1/n * cp.sum(g_0) )\n",
    "        constraints.append( n_0/n * cp.sum(g_1) <=  c + n_1/n * cp.sum(g_0) )\n",
    "\n",
    "        prob = cp.Problem(cp.Minimize(loss), constraints)\n",
    "        result = prob.solve(method='dccp')\n",
    "    \n",
    "    theta = np.array(theta.value)\n",
    "    \n",
    "    return theta          "
   ]
  },
  {
   "cell_type": "code",
   "execution_count": 11,
   "id": "5e5ff5fe",
   "metadata": {
    "ExecuteTime": {
     "end_time": "2022-04-12T04:12:59.452051Z",
     "start_time": "2022-04-12T04:12:59.445939Z"
    }
   },
   "outputs": [],
   "source": [
    "def sigmoid(z):\n",
    "    return 1/(1+np.exp(-z))\n",
    "def predict(x,theta,disjoint = 0):\n",
    "    \n",
    "    ## We can use disjoint = 0 to predict method 0 and method 2,\n",
    "    ## and use disjoint = 1 to predict method 1.\n",
    "    \n",
    "    x0 = np.ones((x.shape[0],1))\n",
    "    x = np.concatenate((x,x0),axis=1)\n",
    "    if disjoint != 0:\n",
    "        x = np.delete(x,2,axis=1) \n",
    "    z = np.dot(x,theta)\n",
    "    h = sigmoid(z)\n",
    "    pred = (h>0.5).astype(float)\n",
    "    return pred"
   ]
  },
  {
   "cell_type": "code",
   "execution_count": 12,
   "id": "cf4298c9",
   "metadata": {
    "ExecuteTime": {
     "end_time": "2022-04-12T04:13:05.141631Z",
     "start_time": "2022-04-12T04:13:05.135266Z"
    }
   },
   "outputs": [],
   "source": [
    "idx_a = x_test[\"race\"] == 0   \n",
    "idx_c = x_test[\"race\"] == 1\n",
    "x_test_a = x_test[idx_a]\n",
    "y_test_a = y_test[idx_a.values]\n",
    "x_test_c = x_test[idx_c]\n",
    "y_test_c = y_test[idx_c.values]"
   ]
  },
  {
   "cell_type": "code",
   "execution_count": 13,
   "id": "1cfa782d",
   "metadata": {
    "ExecuteTime": {
     "end_time": "2022-04-12T04:13:10.501365Z",
     "start_time": "2022-04-12T04:13:10.495989Z"
    }
   },
   "outputs": [],
   "source": [
    "def fnr(y_true,y_pred):\n",
    "    cm = sklearn.metrics.confusion_matrix(y_true,y_pred)\n",
    "    return cm[0][1]/(cm[0][1]+cm[0][0]) \n",
    "def fpr(y_true,y_pred):\n",
    "    cm = sklearn.metrics.confusion_matrix(y_true,y_pred)\n",
    "    return cm[1][0]/(cm[1][1]+cm[1][0]) "
   ]
  },
  {
   "cell_type": "code",
   "execution_count": 14,
   "id": "f7d6690d",
   "metadata": {
    "ExecuteTime": {
     "end_time": "2022-04-12T04:13:16.229228Z",
     "start_time": "2022-04-12T04:13:16.216051Z"
    }
   },
   "outputs": [],
   "source": [
    "def stat(cm_a,cm_c):\n",
    "    fnr_a = cm_a[0][1]/(cm_a[0][1]+cm_a[0][0]) \n",
    "    fnr_c = cm_c[0][1]/(cm_c[0][1]+cm_c[0][0])\n",
    "    fpr_a = cm_a[1][0]/(cm_a[1][1]+cm_a[1][0]) \n",
    "    fpr_c = cm_c[1][0]/(cm_c[1][1]+cm_c[1][0])\n",
    "    acc_a = (cm_a[0][0]+ cm_a[1][1])/(cm_a[0][1]+cm_a[0][0] + cm_a[1][1]+cm_a[1][0]) \n",
    "    acc_c = (cm_c[0][0]+ cm_c[1][1])/(cm_c[0][1]+cm_c[0][0] + cm_c[1][1]+cm_c[1][0]) \n",
    "    acc = (cm_a[0][0]+ cm_a[1][1]+cm_c[0][0]+ cm_c[1][1])/(cm_a[0][1]+cm_a[0][0] + cm_a[1][1]+cm_a[1][0]+cm_c[0][1]+cm_c[0][0] + cm_c[1][1]+cm_c[1][0]) \n",
    "    D_fnr = fnr_a - fnr_c\n",
    "    D_fpr = fpr_a - fpr_c\n",
    "    calibration = abs(acc_a-acc_c)\n",
    "    dic = {'fnr_a':fnr_a,'fnr_c':fnr_c,'fpr_a':fpr_a,'fpr_c':fpr_c,'acc_a':acc_a,\n",
    "           'acc_c':acc_c,'acc':acc,'D_fnr':D_fnr,'D_fpr':D_fpr,'calibration':calibration}\n",
    "    print(\"For African-American, the false positive rate of is %0.2f%%, false negative rate is %0.2f%%, and the accuracy is %0.2f%%.\" % (fpr_a*100,fnr_a*100,acc_a*100) ) \n",
    "    print(\"For Caucasian       , the false positive rate of is %0.2f%%, false negative rate is %0.2f%%, and the accuracy is %0.2f%%.\" % (fpr_c*100,fnr_c*100,acc_c*100) ) \n",
    "    print(\"The diffrent negative positives rate(D_FNR) is %0.2f%%, and the diffrent positive positives rate(D_FPR)is %0.2f%%\" % (D_fpr*100,D_fnr*100) ) \n",
    "    print(\"The accuracy is %0.2f%%, and the calibration is %0.2f%%\" % (acc*100,calibration*100) ) \n",
    "    return dic"
   ]
  },
  {
   "cell_type": "markdown",
   "id": "d1178516",
   "metadata": {},
   "source": [
    "## 1. Unconstrained Classifier"
   ]
  },
  {
   "cell_type": "code",
   "execution_count": 15,
   "id": "88d65e90",
   "metadata": {
    "ExecuteTime": {
     "end_time": "2022-04-12T04:13:40.430240Z",
     "start_time": "2022-04-12T04:13:39.875084Z"
    }
   },
   "outputs": [],
   "source": [
    "thetas = DM(x_train,y_train,method=0)"
   ]
  },
  {
   "cell_type": "code",
   "execution_count": 16,
   "id": "2e14ed64",
   "metadata": {
    "ExecuteTime": {
     "end_time": "2022-04-12T04:13:44.560967Z",
     "start_time": "2022-04-12T04:13:44.550312Z"
    }
   },
   "outputs": [
    {
     "data": {
      "text/plain": [
       "array([[200,  39],\n",
       "       [ 35, 276]])"
      ]
     },
     "execution_count": 16,
     "metadata": {},
     "output_type": "execute_result"
    }
   ],
   "source": [
    "cm_a = sklearn.metrics.confusion_matrix(y_test_a,(predict(x_test_a,thetas)))\n",
    "cm_a  ## confusion matrix for African-American"
   ]
  },
  {
   "cell_type": "code",
   "execution_count": 17,
   "id": "71c82f33",
   "metadata": {
    "ExecuteTime": {
     "end_time": "2022-04-12T04:13:50.281278Z",
     "start_time": "2022-04-12T04:13:50.273852Z"
    }
   },
   "outputs": [
    {
     "data": {
      "text/plain": [
       "array([[181,  29],\n",
       "       [ 21,  98]])"
      ]
     },
     "execution_count": 17,
     "metadata": {},
     "output_type": "execute_result"
    }
   ],
   "source": [
    "cm_c = sklearn.metrics.confusion_matrix(y_test_c,(predict(x_test_c,thetas)))\n",
    "cm_c  ## confusion matrix for Caucasian"
   ]
  },
  {
   "cell_type": "code",
   "execution_count": 18,
   "id": "95cb7a1c",
   "metadata": {
    "ExecuteTime": {
     "end_time": "2022-04-12T04:13:55.094793Z",
     "start_time": "2022-04-12T04:13:55.091470Z"
    }
   },
   "outputs": [
    {
     "name": "stdout",
     "output_type": "stream",
     "text": [
      "For African-American, the false positive rate of is 11.25%, false negative rate is 16.32%, and the accuracy is 86.55%.\n",
      "For Caucasian       , the false positive rate of is 17.65%, false negative rate is 13.81%, and the accuracy is 84.80%.\n",
      "The diffrent negative positives rate(D_FNR) is -6.39%, and the diffrent positive positives rate(D_FPR)is 2.51%\n",
      "The accuracy is 85.89%, and the calibration is 1.74%\n"
     ]
    }
   ],
   "source": [
    "statistics = stat(cm_a,cm_c) "
   ]
  },
  {
   "cell_type": "markdown",
   "id": "66e68aee",
   "metadata": {},
   "source": [
    "The differce is big, and we try to reduce it without significantly reducing the accuracy."
   ]
  },
  {
   "cell_type": "markdown",
   "id": "2311ce20",
   "metadata": {},
   "source": [
    "## 2. Disparate Mistreatment method (DM)"
   ]
  },
  {
   "cell_type": "markdown",
   "id": "f029ad88",
   "metadata": {},
   "source": [
    "We will use this to avoid disparate treatment and disparate mistreatment simultaneously. Disparate mistreatment is avoided by using fairness constraints. Disparate treatment is avoided by ensuring that sensitive attribute information is not used while making decisions, i.e., by keeping user feature vectors (x) and the sensitive features (z) disjoint"
   ]
  },
  {
   "cell_type": "code",
   "execution_count": 19,
   "id": "67665f78",
   "metadata": {
    "ExecuteTime": {
     "end_time": "2022-04-12T04:14:59.216244Z",
     "start_time": "2022-04-12T04:14:46.557260Z"
    }
   },
   "outputs": [],
   "source": [
    "thetas = DM(x_train,y_train,method=1)"
   ]
  },
  {
   "cell_type": "code",
   "execution_count": 20,
   "id": "a468346a",
   "metadata": {
    "ExecuteTime": {
     "end_time": "2022-04-12T04:14:59.257117Z",
     "start_time": "2022-04-12T04:14:59.253732Z"
    }
   },
   "outputs": [
    {
     "data": {
      "text/plain": [
       "array([[201,  38],\n",
       "       [ 37, 274]])"
      ]
     },
     "execution_count": 20,
     "metadata": {},
     "output_type": "execute_result"
    }
   ],
   "source": [
    "cm_a = sklearn.metrics.confusion_matrix(y_test_a,(predict(x_test_a,thetas,1)))\n",
    "cm_a  ## confusion matrix for African-American"
   ]
  },
  {
   "cell_type": "code",
   "execution_count": 21,
   "id": "610a12ff",
   "metadata": {
    "ExecuteTime": {
     "end_time": "2022-04-12T04:14:59.295797Z",
     "start_time": "2022-04-12T04:14:59.292370Z"
    }
   },
   "outputs": [
    {
     "data": {
      "text/plain": [
       "array([[181,  29],\n",
       "       [ 21,  98]])"
      ]
     },
     "execution_count": 21,
     "metadata": {},
     "output_type": "execute_result"
    }
   ],
   "source": [
    "cm_c = sklearn.metrics.confusion_matrix(y_test_c,(predict(x_test_c,thetas,1)))\n",
    "cm_c  ## confusion matrix for Caucasian"
   ]
  },
  {
   "cell_type": "code",
   "execution_count": 22,
   "id": "81ffc2f7",
   "metadata": {
    "ExecuteTime": {
     "end_time": "2022-04-12T04:15:02.178109Z",
     "start_time": "2022-04-12T04:15:02.174793Z"
    }
   },
   "outputs": [
    {
     "name": "stdout",
     "output_type": "stream",
     "text": [
      "For African-American, the false positive rate of is 11.90%, false negative rate is 15.90%, and the accuracy is 86.36%.\n",
      "For Caucasian       , the false positive rate of is 17.65%, false negative rate is 13.81%, and the accuracy is 84.80%.\n",
      "The diffrent negative positives rate(D_FNR) is -5.75%, and the diffrent positive positives rate(D_FPR)is 2.09%\n",
      "The accuracy is 85.78%, and the calibration is 1.56%\n"
     ]
    }
   ],
   "source": [
    "statistics = stat(cm_a,cm_c)"
   ]
  },
  {
   "cell_type": "markdown",
   "id": "bf7cc732",
   "metadata": {},
   "source": [
    "The accuracy decreased by 7%, but we succeeded in reducing the diffrence of FNR and diffrence of FPR a lot."
   ]
  },
  {
   "cell_type": "code",
   "execution_count": 23,
   "id": "e7df471d",
   "metadata": {
    "ExecuteTime": {
     "end_time": "2022-04-12T04:20:30.098228Z",
     "start_time": "2022-04-12T04:15:40.377547Z"
    }
   },
   "outputs": [],
   "source": [
    "thetas_2 = [None]*50\n",
    "for c in range(50):\n",
    "    thetas_2[c] = DM(x_train,y_train,method=1,c=c*3/50000)"
   ]
  },
  {
   "cell_type": "code",
   "execution_count": 24,
   "id": "db0fe398",
   "metadata": {
    "ExecuteTime": {
     "end_time": "2022-04-12T04:20:30.265492Z",
     "start_time": "2022-04-12T04:20:30.150754Z"
    }
   },
   "outputs": [],
   "source": [
    "acc = np.zeros(50)\n",
    "C = np.zeros(50)\n",
    "calibration = np.zeros(50)\n",
    "d_fnr = np.zeros(50)\n",
    "d_fpr = np.zeros(50)\n",
    "CV_score = np.zeros(50)\n",
    "nmi = np.zeros(50)\n",
    "for c in range(50):\n",
    "    C[c] = c*3/5000\n",
    "    acc[c] = (predict(x_test,thetas_2[c],1) == y_test).mean()\n",
    "    acc_a = (predict(x_test_a,thetas_2[c],1) == y_test_a).mean()\n",
    "    acc_c = (predict(x_test_c,thetas_2[c],1) == y_test_c).mean()\n",
    "    calibration[c] = abs(acc_a-acc_c)\n",
    "    d_fnr[c] = fnr(y_test_a, predict(x_test_a,thetas_2[c],1)) - fnr(y_test_c, predict(x_test_c,thetas_2[c],1))\n",
    "    d_fpr[c] = fpr(y_test_a, predict(x_test_a,thetas_2[c],1)) - fpr(y_test_c, predict(x_test_c,thetas_2[c],1))\n",
    "    CV_score[c] = abs(predict(x_test_a,thetas_2[c],1).sum()/ x_test_a.shape[0] - predict(x_test_c,thetas_2[c],1).sum()/ x_test_c.shape[0])\n",
    "    nmi[c] = normalized_mutual_info_score(predict(x_test,thetas_2[c],1),x_test['race'])"
   ]
  },
  {
   "cell_type": "code",
   "execution_count": 25,
   "id": "9e079a35",
   "metadata": {
    "ExecuteTime": {
     "end_time": "2022-04-12T04:20:30.377248Z",
     "start_time": "2022-04-12T04:20:30.310596Z"
    }
   },
   "outputs": [
    {
     "data": {
      "image/png": "[encoded data removed]",
      "text/plain": [
       "<Figure size 432x288 with 1 Axes>"
      ]
     },
     "metadata": {
      "needs_background": "light"
     },
     "output_type": "display_data"
    }
   ],
   "source": [
    "plt.plot(C,d_fnr);\n",
    "plt.title('Different of FNR');"
   ]
  },
  {
   "cell_type": "code",
   "execution_count": 26,
   "id": "025ba3e7",
   "metadata": {
    "ExecuteTime": {
     "end_time": "2022-04-12T04:20:30.472590Z",
     "start_time": "2022-04-12T04:20:30.428115Z"
    }
   },
   "outputs": [
    {
     "data": {
      "image/png": "[encoded data removed]",
      "text/plain": [
       "<Figure size 432x288 with 1 Axes>"
      ]
     },
     "metadata": {
      "needs_background": "light"
     },
     "output_type": "display_data"
    }
   ],
   "source": [
    "plt.plot(C,d_fpr);\n",
    "plt.title('Different of FPR');"
   ]
  },
  {
   "cell_type": "code",
   "execution_count": 27,
   "id": "a86d57b0",
   "metadata": {
    "ExecuteTime": {
     "end_time": "2022-04-12T04:20:30.559779Z",
     "start_time": "2022-04-12T04:20:30.518621Z"
    }
   },
   "outputs": [
    {
     "data": {
      "image/png": "[encoded data removed]",
      "text/plain": [
       "<Figure size 432x288 with 1 Axes>"
      ]
     },
     "metadata": {
      "needs_background": "light"
     },
     "output_type": "display_data"
    }
   ],
   "source": [
    "plt.plot(C,acc);\n",
    "plt.title('Accuracy');"
   ]
  },
  {
   "cell_type": "code",
   "execution_count": 29,
   "id": "b7dabb1b",
   "metadata": {
    "ExecuteTime": {
     "end_time": "2022-04-12T04:20:30.738588Z",
     "start_time": "2022-04-12T04:20:30.694355Z"
    }
   },
   "outputs": [
    {
     "data": {
      "image/png": "[encoded data removed]",
      "text/plain": [
       "<Figure size 432x288 with 1 Axes>"
      ]
     },
     "metadata": {
      "needs_background": "light"
     },
     "output_type": "display_data"
    }
   ],
   "source": [
    "plt.plot(C,calibration);\n",
    "plt.title('Calibration');"
   ]
  },
  {
   "cell_type": "code",
   "execution_count": 30,
   "id": "206d9af8",
   "metadata": {
    "ExecuteTime": {
     "end_time": "2022-04-12T04:20:30.828553Z",
     "start_time": "2022-04-12T04:20:30.785471Z"
    }
   },
   "outputs": [
    {
     "data": {
      "image/png": "[encoded data removed]",
      "text/plain": [
       "<Figure size 432x288 with 1 Axes>"
      ]
     },
     "metadata": {
      "needs_background": "light"
     },
     "output_type": "display_data"
    }
   ],
   "source": [
    "plt.plot(C,CV_score);\n",
    "plt.gca().invert_xaxis();\n",
    "plt.title('CV_score');"
   ]
  },
  {
   "cell_type": "code",
   "execution_count": 31,
   "id": "56dc5b46",
   "metadata": {
    "ExecuteTime": {
     "end_time": "2022-04-12T04:20:30.916607Z",
     "start_time": "2022-04-12T04:20:30.873569Z"
    }
   },
   "outputs": [
    {
     "data": {
      "image/png": "[encoded data removed]",
      "text/plain": [
       "<Figure size 432x288 with 1 Axes>"
      ]
     },
     "metadata": {
      "needs_background": "light"
     },
     "output_type": "display_data"
    }
   ],
   "source": [
    "plt.plot(C,nmi);\n",
    "plt.gca().invert_xaxis();\n",
    "plt.title('NMI');"
   ]
  },
  {
   "cell_type": "markdown",
   "id": "1d3f2012",
   "metadata": {},
   "source": [
    "## 3. Disparate Mistreatment method with sensitive attribute (DM_sen)"
   ]
  },
  {
   "cell_type": "markdown",
   "id": "ca9c1311",
   "metadata": {},
   "source": [
    "We will avoid disparate mistreatment only. The user feature vectors (x) and the sensitive features (z) are not disjoint, that is, z is used as a learnable feature. Therefore, the sensitive attribute information is used for decision making, resulting in disparate\n",
    "treatment."
   ]
  },
  {
   "cell_type": "code",
   "execution_count": 32,
   "id": "d269d7be",
   "metadata": {
    "ExecuteTime": {
     "end_time": "2022-04-12T04:20:43.979619Z",
     "start_time": "2022-04-12T04:20:30.965938Z"
    }
   },
   "outputs": [],
   "source": [
    "thetas = DM(x_train,y_train,method=2)"
   ]
  },
  {
   "cell_type": "code",
   "execution_count": 33,
   "id": "82aea68e",
   "metadata": {
    "ExecuteTime": {
     "end_time": "2022-04-12T04:20:44.028436Z",
     "start_time": "2022-04-12T04:20:44.024787Z"
    }
   },
   "outputs": [
    {
     "data": {
      "text/plain": [
       "array([[201,  38],\n",
       "       [ 37, 274]])"
      ]
     },
     "execution_count": 33,
     "metadata": {},
     "output_type": "execute_result"
    }
   ],
   "source": [
    "cm_a = sklearn.metrics.confusion_matrix(y_test_a,(predict(x_test_a,thetas)))\n",
    "cm_a  ## confusion matrix for African-American"
   ]
  },
  {
   "cell_type": "code",
   "execution_count": 34,
   "id": "b03630f2",
   "metadata": {
    "ExecuteTime": {
     "end_time": "2022-04-12T04:20:44.077839Z",
     "start_time": "2022-04-12T04:20:44.074273Z"
    }
   },
   "outputs": [
    {
     "data": {
      "text/plain": [
       "array([[181,  29],\n",
       "       [ 21,  98]])"
      ]
     },
     "execution_count": 34,
     "metadata": {},
     "output_type": "execute_result"
    }
   ],
   "source": [
    "cm_c = sklearn.metrics.confusion_matrix(y_test_c,(predict(x_test_c,thetas)))\n",
    "cm_c  ## confusion matrix for Caucasian"
   ]
  },
  {
   "cell_type": "code",
   "execution_count": 35,
   "id": "08a938fb",
   "metadata": {
    "ExecuteTime": {
     "end_time": "2022-04-12T04:20:44.124678Z",
     "start_time": "2022-04-12T04:20:44.122690Z"
    }
   },
   "outputs": [
    {
     "name": "stdout",
     "output_type": "stream",
     "text": [
      "For African-American, the false positive rate of is 11.90%, false negative rate is 15.90%, and the accuracy is 86.36%.\n",
      "For Caucasian       , the false positive rate of is 17.65%, false negative rate is 13.81%, and the accuracy is 84.80%.\n",
      "The diffrent negative positives rate(D_FNR) is -5.75%, and the diffrent positive positives rate(D_FPR)is 2.09%\n",
      "The accuracy is 85.78%, and the calibration is 1.56%\n"
     ]
    }
   ],
   "source": [
    "statistics = stat(cm_a,cm_c)"
   ]
  },
  {
   "cell_type": "markdown",
   "id": "f0d085de",
   "metadata": {
    "ExecuteTime": {
     "end_time": "2022-04-12T04:20:44.179123Z",
     "start_time": "2022-04-12T04:20:44.176204Z"
    }
   },
   "source": [
    "For DM_sen, the accuracy only decreased by 1%, and the diffrence of FNR and diffrence of FPR reduce a lot. It is a very great method to avoid disparate mistreatment."
   ]
  },
  {
   "cell_type": "code",
   "execution_count": 37,
   "id": "9833bc08",
   "metadata": {
    "ExecuteTime": {
     "end_time": "2022-04-12T04:26:40.878001Z",
     "start_time": "2022-04-12T04:21:42.389304Z"
    }
   },
   "outputs": [],
   "source": [
    "thetas_3 = [None]*50\n",
    "for c in range(50):\n",
    "    thetas_3[c] = DM(x_train,y_train,method=2,c=c*3/50000)"
   ]
  },
  {
   "cell_type": "code",
   "execution_count": 38,
   "id": "93822edf",
   "metadata": {
    "ExecuteTime": {
     "end_time": "2022-04-12T04:26:41.032571Z",
     "start_time": "2022-04-12T04:26:40.928289Z"
    }
   },
   "outputs": [],
   "source": [
    "nmi = np.zeros(50)\n",
    "for c in range(50):\n",
    "    C[c] = c*3/5000\n",
    "    acc[c] = (predict(x_test,thetas_3[c]) == y_test).mean()\n",
    "    acc_a = (predict(x_test_a,thetas_3[c]) == y_test_a).mean()\n",
    "    acc_c = (predict(x_test_c,thetas_3[c]) == y_test_c).mean()\n",
    "    calibration[c] = abs(acc_a-acc_c)\n",
    "    d_fnr[c] = fnr(y_test_a, predict(x_test_a,thetas_3[c])) - fnr(y_test_c, predict(x_test_c,thetas_3[c]))\n",
    "    d_fpr[c] = fpr(y_test_a, predict(x_test_a,thetas_3[c])) - fpr(y_test_c, predict(x_test_c,thetas_3[c]))\n",
    "    CV_score[c] = abs(predict(x_test_a,thetas_3[c]).sum()/ x_test_a.shape[0] - predict(x_test_c,thetas_3[c]).sum()/ x_test_c.shape[0])\n",
    "    nmi[c] = normalized_mutual_info_score(predict(x_test,thetas_3[c]),x_test['race'])  "
   ]
  },
  {
   "cell_type": "code",
   "execution_count": 39,
   "id": "0995fb6b",
   "metadata": {
    "ExecuteTime": {
     "end_time": "2022-04-12T04:26:41.121435Z",
     "start_time": "2022-04-12T04:26:41.080394Z"
    }
   },
   "outputs": [
    {
     "data": {
      "image/png": "[encoded data removed]",
      "text/plain": [
       "<Figure size 432x288 with 1 Axes>"
      ]
     },
     "metadata": {
      "needs_background": "light"
     },
     "output_type": "display_data"
    }
   ],
   "source": [
    "plt.plot(C,d_fnr);\n",
    "plt.title('Different of FNR');"
   ]
  },
  {
   "cell_type": "code",
   "execution_count": 40,
   "id": "a64b23ac",
   "metadata": {
    "ExecuteTime": {
     "end_time": "2022-04-12T04:26:41.215684Z",
     "start_time": "2022-04-12T04:26:41.173298Z"
    }
   },
   "outputs": [
    {
     "data": {
      "image/png": "[encoded data removed]",
      "text/plain": [
       "<Figure size 432x288 with 1 Axes>"
      ]
     },
     "metadata": {
      "needs_background": "light"
     },
     "output_type": "display_data"
    }
   ],
   "source": [
    "plt.plot(C,d_fpr);\n",
    "plt.title('Different of FPR');"
   ]
  },
  {
   "cell_type": "code",
   "execution_count": 41,
   "id": "6439549f",
   "metadata": {
    "ExecuteTime": {
     "end_time": "2022-04-12T04:26:41.304774Z",
     "start_time": "2022-04-12T04:26:41.264627Z"
    }
   },
   "outputs": [
    {
     "data": {
      "image/png": "[encoded data removed]",
      "text/plain": [
       "<Figure size 432x288 with 1 Axes>"
      ]
     },
     "metadata": {
      "needs_background": "light"
     },
     "output_type": "display_data"
    }
   ],
   "source": [
    "plt.plot(C,acc);\n",
    "plt.title('Accuracy');"
   ]
  },
  {
   "cell_type": "code",
   "execution_count": 42,
   "id": "aa18356e",
   "metadata": {
    "ExecuteTime": {
     "end_time": "2022-04-12T04:26:41.397195Z",
     "start_time": "2022-04-12T04:26:41.353139Z"
    }
   },
   "outputs": [
    {
     "data": {
      "image/png": "[encoded data removed]",
      "text/plain": [
       "<Figure size 432x288 with 1 Axes>"
      ]
     },
     "metadata": {
      "needs_background": "light"
     },
     "output_type": "display_data"
    }
   ],
   "source": [
    "plt.plot(C,calibration);\n",
    "plt.title('Calibration');"
   ]
  },
  {
   "cell_type": "code",
   "execution_count": 43,
   "id": "9f6924c1",
   "metadata": {
    "ExecuteTime": {
     "end_time": "2022-04-12T04:26:41.487230Z",
     "start_time": "2022-04-12T04:26:41.445768Z"
    }
   },
   "outputs": [
    {
     "data": {
      "image/png": "[encoded data removed]",
      "text/plain": [
       "<Figure size 432x288 with 1 Axes>"
      ]
     },
     "metadata": {
      "needs_background": "light"
     },
     "output_type": "display_data"
    }
   ],
   "source": [
    "plt.plot(C,CV_score);\n",
    "plt.gca().invert_xaxis();\n",
    "plt.title('CV_score');"
   ]
  },
  {
   "cell_type": "code",
   "execution_count": 44,
   "id": "11818b69",
   "metadata": {
    "ExecuteTime": {
     "end_time": "2022-04-12T04:26:41.576982Z",
     "start_time": "2022-04-12T04:26:41.535374Z"
    }
   },
   "outputs": [
    {
     "data": {
      "image/png": "[encoded data removed]",
      "text/plain": [
       "<Figure size 432x288 with 1 Axes>"
      ]
     },
     "metadata": {
      "needs_background": "light"
     },
     "output_type": "display_data"
    }
   ],
   "source": [
    "plt.plot(C,nmi);\n",
    "plt.gca().invert_xaxis();\n",
    "plt.title('NMI');"
   ]
  }
 ],
 "metadata": {
  "kernelspec": {
   "display_name": "Python 3 (ipykernel)",
   "language": "python",
   "name": "python3"
  },
  "language_info": {
   "codemirror_mode": {
    "name": "ipython",
    "version": 3
   },
   "file_extension": ".py",
   "mimetype": "text/x-python",
   "name": "python",
   "nbconvert_exporter": "python",
   "pygments_lexer": "ipython3",
   "version": "3.9.10"
  },
  "toc": {
   "base_numbering": 1,
   "nav_menu": {},
   "number_sections": true,
   "sideBar": true,
   "skip_h1_title": false,
   "title_cell": "Table of Contents",
   "title_sidebar": "Contents",
   "toc_cell": false,
   "toc_position": {},
   "toc_section_display": true,
   "toc_window_display": false
  },
  "varInspector": {
   "cols": {
    "lenName": 16,
    "lenType": 16,
    "lenVar": 40
   },
   "kernels_config": {
    "python": {
     "delete_cmd_postfix": "",
     "delete_cmd_prefix": "del ",
     "library": "var_list.py",
     "varRefreshCmd": "print(var_dic_list())"
    },
    "r": {
     "delete_cmd_postfix": ") ",
     "delete_cmd_prefix": "rm(",
     "library": "var_list.r",
     "varRefreshCmd": "cat(var_dic_list()) "
    }
   },
   "types_to_exclude": [
    "module",
    "function",
    "builtin_function_or_method",
    "instance",
    "_Feature"
   ],
   "window_display": false
  }
 },
 "nbformat": 4,
 "nbformat_minor": 5
}
