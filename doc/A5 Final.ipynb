{
 "cells": [
  {
   "cell_type": "code",
   "execution_count": 1,
   "id": "0c2f9ca2",
   "metadata": {
    "ExecuteTime": {
     "end_time": "2022-04-13T00:47:35.772271Z",
     "start_time": "2022-04-13T00:47:34.732177Z"
    }
   },
   "outputs": [],
   "source": [
    "import pandas as pd\n",
    "import numpy as np\n",
    "import matplotlib.pyplot as plt\n",
    "from scipy.stats import entropy\n",
    "from sklearn.preprocessing import StandardScaler\n",
    "from sklearn.model_selection import train_test_split\n",
    "from sklearn.metrics import confusion_matrix\n",
    "from sklearn.metrics import mutual_info_score\n",
    "import torch\n",
    "from torch import nn"
   ]
  },
  {
   "cell_type": "markdown",
   "id": "52b25c65",
   "metadata": {},
   "source": [
    "# Loading data "
   ]
  },
  {
   "cell_type": "code",
   "execution_count": 2,
   "id": "a46c4520",
   "metadata": {
    "ExecuteTime": {
     "end_time": "2022-04-13T00:47:35.810415Z",
     "start_time": "2022-04-13T00:47:35.773383Z"
    }
   },
   "outputs": [],
   "source": [
    "data = pd.read_csv(\"../data/compas-scores-two-years.csv\")"
   ]
  },
  {
   "cell_type": "markdown",
   "id": "c75a5843",
   "metadata": {},
   "source": [
    "# Data processing"
   ]
  },
  {
   "cell_type": "markdown",
   "id": "46d428b1",
   "metadata": {},
   "source": [
    "## Chose useful rows and columns"
   ]
  },
  {
   "cell_type": "code",
   "execution_count": 3,
   "id": "9e2b1782",
   "metadata": {
    "ExecuteTime": {
     "end_time": "2022-04-13T00:47:35.819817Z",
     "start_time": "2022-04-13T00:47:35.811212Z"
    }
   },
   "outputs": [
    {
     "data": {
      "text/plain": [
       "(6150, 9)"
      ]
     },
     "execution_count": 3,
     "metadata": {},
     "output_type": "execute_result"
    }
   ],
   "source": [
    "data = data.loc[data['race'].isin(['African-American','Caucasian'])]\n",
    "data=data[[ 'sex','age', 'race', 'priors_count',\n",
    "             'c_charge_degree', \n",
    "             'start', 'end', 'event', 'two_year_recid']]\n",
    "data = data.dropna()\n",
    "data.shape"
   ]
  },
  {
   "cell_type": "code",
   "execution_count": 4,
   "id": "2d1296f2",
   "metadata": {
    "ExecuteTime": {
     "end_time": "2022-04-13T00:47:35.826742Z",
     "start_time": "2022-04-13T00:47:35.821220Z"
    }
   },
   "outputs": [
    {
     "data": {
      "text/html": [
       "<div>\n",
       "<style scoped>\n",
       "    .dataframe tbody tr th:only-of-type {\n",
       "        vertical-align: middle;\n",
       "    }\n",
       "\n",
       "    .dataframe tbody tr th {\n",
       "        vertical-align: top;\n",
       "    }\n",
       "\n",
       "    .dataframe thead th {\n",
       "        text-align: right;\n",
       "    }\n",
       "</style>\n",
       "<table border=\"1\" class=\"dataframe\">\n",
       "  <thead>\n",
       "    <tr style=\"text-align: right;\">\n",
       "      <th></th>\n",
       "      <th>sex</th>\n",
       "      <th>age</th>\n",
       "      <th>race</th>\n",
       "      <th>priors_count</th>\n",
       "      <th>c_charge_degree</th>\n",
       "      <th>start</th>\n",
       "      <th>end</th>\n",
       "      <th>event</th>\n",
       "      <th>two_year_recid</th>\n",
       "    </tr>\n",
       "  </thead>\n",
       "  <tbody>\n",
       "    <tr>\n",
       "      <th>1</th>\n",
       "      <td>Male</td>\n",
       "      <td>34</td>\n",
       "      <td>African-American</td>\n",
       "      <td>0</td>\n",
       "      <td>F</td>\n",
       "      <td>9</td>\n",
       "      <td>159</td>\n",
       "      <td>1</td>\n",
       "      <td>1</td>\n",
       "    </tr>\n",
       "    <tr>\n",
       "      <th>2</th>\n",
       "      <td>Male</td>\n",
       "      <td>24</td>\n",
       "      <td>African-American</td>\n",
       "      <td>4</td>\n",
       "      <td>F</td>\n",
       "      <td>0</td>\n",
       "      <td>63</td>\n",
       "      <td>0</td>\n",
       "      <td>1</td>\n",
       "    </tr>\n",
       "    <tr>\n",
       "      <th>3</th>\n",
       "      <td>Male</td>\n",
       "      <td>23</td>\n",
       "      <td>African-American</td>\n",
       "      <td>1</td>\n",
       "      <td>F</td>\n",
       "      <td>0</td>\n",
       "      <td>1174</td>\n",
       "      <td>0</td>\n",
       "      <td>0</td>\n",
       "    </tr>\n",
       "    <tr>\n",
       "      <th>6</th>\n",
       "      <td>Male</td>\n",
       "      <td>41</td>\n",
       "      <td>Caucasian</td>\n",
       "      <td>14</td>\n",
       "      <td>F</td>\n",
       "      <td>5</td>\n",
       "      <td>40</td>\n",
       "      <td>1</td>\n",
       "      <td>1</td>\n",
       "    </tr>\n",
       "    <tr>\n",
       "      <th>8</th>\n",
       "      <td>Female</td>\n",
       "      <td>39</td>\n",
       "      <td>Caucasian</td>\n",
       "      <td>0</td>\n",
       "      <td>M</td>\n",
       "      <td>2</td>\n",
       "      <td>747</td>\n",
       "      <td>0</td>\n",
       "      <td>0</td>\n",
       "    </tr>\n",
       "  </tbody>\n",
       "</table>\n",
       "</div>"
      ],
      "text/plain": [
       "      sex  age              race  priors_count c_charge_degree  start   end  \\\n",
       "1    Male   34  African-American             0               F      9   159   \n",
       "2    Male   24  African-American             4               F      0    63   \n",
       "3    Male   23  African-American             1               F      0  1174   \n",
       "6    Male   41         Caucasian            14               F      5    40   \n",
       "8  Female   39         Caucasian             0               M      2   747   \n",
       "\n",
       "   event  two_year_recid  \n",
       "1      1               1  \n",
       "2      0               1  \n",
       "3      0               0  \n",
       "6      1               1  \n",
       "8      0               0  "
      ]
     },
     "execution_count": 4,
     "metadata": {},
     "output_type": "execute_result"
    }
   ],
   "source": [
    "data.head()"
   ]
  },
  {
   "cell_type": "markdown",
   "id": "518dc677",
   "metadata": {},
   "source": [
    "## Label"
   ]
  },
  {
   "cell_type": "code",
   "execution_count": 5,
   "id": "806a7664",
   "metadata": {
    "ExecuteTime": {
     "end_time": "2022-04-13T00:47:35.829020Z",
     "start_time": "2022-04-13T00:47:35.827534Z"
    }
   },
   "outputs": [],
   "source": [
    "label = data['two_year_recid']"
   ]
  },
  {
   "cell_type": "code",
   "execution_count": 6,
   "id": "80efb412",
   "metadata": {
    "ExecuteTime": {
     "end_time": "2022-04-13T00:47:35.832703Z",
     "start_time": "2022-04-13T00:47:35.829792Z"
    }
   },
   "outputs": [],
   "source": [
    "sf = (data[['race']]=='Caucasian').astype(int)\n",
    "sf.index = range(sf.shape[0])"
   ]
  },
  {
   "cell_type": "markdown",
   "id": "934106f0",
   "metadata": {},
   "source": [
    "## Normalize numerical columns and encode categorical columns"
   ]
  },
  {
   "cell_type": "code",
   "execution_count": 7,
   "id": "0b850468",
   "metadata": {
    "ExecuteTime": {
     "end_time": "2022-04-13T00:47:35.837792Z",
     "start_time": "2022-04-13T00:47:35.833518Z"
    }
   },
   "outputs": [],
   "source": [
    "num = data._get_numeric_data()\n",
    "num = num.drop(labels='two_year_recid',axis=1)\n",
    "ss = StandardScaler()\n",
    "num_ss = ss.fit_transform(num)\n",
    "num = pd.DataFrame(num_ss,columns=num.columns)"
   ]
  },
  {
   "cell_type": "code",
   "execution_count": 8,
   "id": "4fda9b9b",
   "metadata": {
    "ExecuteTime": {
     "end_time": "2022-04-13T00:47:35.843866Z",
     "start_time": "2022-04-13T00:47:35.838619Z"
    }
   },
   "outputs": [],
   "source": [
    "num_cols = data._get_numeric_data().columns\n",
    "cat = data.drop(columns = num_cols, axis = 1)\n",
    "cat = cat.drop(labels='race',axis=1)\n",
    "cat = pd.get_dummies(cat)\n",
    "cat.index = range(cat.shape[0])"
   ]
  },
  {
   "cell_type": "code",
   "execution_count": 9,
   "id": "facb4f0a",
   "metadata": {
    "ExecuteTime": {
     "end_time": "2022-04-13T00:47:35.847189Z",
     "start_time": "2022-04-13T00:47:35.844906Z"
    }
   },
   "outputs": [],
   "source": [
    "clean_data = pd.concat([sf,cat,num], axis=1)"
   ]
  },
  {
   "cell_type": "markdown",
   "id": "fbe5be47",
   "metadata": {},
   "source": [
    "# Model"
   ]
  },
  {
   "cell_type": "markdown",
   "id": "3bd83308",
   "metadata": {},
   "source": [
    "## Get train, val, test sets ; transform them into tensor"
   ]
  },
  {
   "cell_type": "code",
   "execution_count": 10,
   "id": "dd16fab5",
   "metadata": {
    "ExecuteTime": {
     "end_time": "2022-04-13T00:47:35.853855Z",
     "start_time": "2022-04-13T00:47:35.849244Z"
    }
   },
   "outputs": [],
   "source": [
    "X_train, X_test, y_train, y_test = train_test_split(clean_data,label,test_size=1/7)\n",
    "X_train, X_val, y_train, y_val = train_test_split(X_train,y_train,test_size=1/6)\n",
    "\n",
    "X_train, X_val, X_test = torch.Tensor(np.array(X_train)),torch.Tensor(np.array(X_val)),torch.Tensor(np.array(X_test))\n",
    "y_train, y_val, y_test = torch.Tensor(np.array(y_train)),torch.Tensor(np.array(y_val)),torch.Tensor(np.array(y_test))"
   ]
  },
  {
   "cell_type": "markdown",
   "id": "91b348a4",
   "metadata": {},
   "source": [
    "## Define evaluation functions"
   ]
  },
  {
   "cell_type": "code",
   "execution_count": 11,
   "id": "f92f0627",
   "metadata": {
    "ExecuteTime": {
     "end_time": "2022-04-13T00:47:35.859674Z",
     "start_time": "2022-04-13T00:47:35.854625Z"
    }
   },
   "outputs": [],
   "source": [
    "def acc(pred,label):\n",
    "    pred = torch.squeeze(pred).round().detach().numpy()\n",
    "    label = label.detach().numpy()\n",
    "    acc = (pred==label).sum() / label.shape[0]\n",
    "    return acc\n",
    "\n",
    "def calibration(pred,inp,label):\n",
    "    pred_c = torch.squeeze(pred[inp[:,0]==1]).round().detach().numpy()\n",
    "    pred_a = torch.squeeze(pred[inp[:,0]==0]).round().detach().numpy()\n",
    "    label_c = label[inp[:,0]==1].detach().numpy()\n",
    "    label_a = label[inp[:,0]==0].detach().numpy()\n",
    "    acc_c = (pred_c!=label_c).sum() / label_c.shape[0]\n",
    "    acc_a = (pred_a!=label_a).sum() / label_a.shape[0]\n",
    "    calib = abs(acc_a-acc_c)\n",
    "    return calib\n",
    "\n",
    "def cvs(pred,inp):\n",
    "    pred_c = torch.squeeze(pred[inp[:,0]==1]).round()\n",
    "    pred_a = torch.squeeze(pred[inp[:,0]==0]).round()\n",
    "    P_s1y1 = torch.sum(pred_c == 1)/pred_c.shape[0]\n",
    "    P_s0y1 = torch.sum(pred_a == 1)/pred_a.shape[0]\n",
    "    CV_score = round(torch.abs(P_s1y1 - P_s0y1).item(),4)\n",
    "    return CV_score\n",
    "\n",
    "def nmi(pred,inp):\n",
    "    mutual_info = mutual_info_score(pred.round(), inp[:,0])\n",
    "    Hy = entropy(pred)\n",
    "    Hs = entropy(inp[:,0])\n",
    "    nmi = 2*mutual_info/(Hy+Hs)\n",
    "    return nmi"
   ]
  },
  {
   "cell_type": "markdown",
   "id": "c3fb184e",
   "metadata": {},
   "source": [
    "## Define PR"
   ]
  },
  {
   "cell_type": "code",
   "execution_count": 12,
   "id": "96a44a5a",
   "metadata": {
    "ExecuteTime": {
     "end_time": "2022-04-13T00:47:35.864911Z",
     "start_time": "2022-04-13T00:47:35.860728Z"
    }
   },
   "outputs": [],
   "source": [
    "class PrejudiceRemover(nn.Module):\n",
    "    def __init__(self,eta):\n",
    "        super().__init__()\n",
    "        self.eta = eta\n",
    "\n",
    "    def forward(self, inputs, targets):\n",
    "        # Pr[y|s] = sum{(xi,si),si=s} sigma(xi,s) / |D[xs]|\n",
    "        N_s1 = inputs[inputs[:,0]==1].shape[0]\n",
    "        N_s0 = inputs[inputs[:,0]==0].shape[0]\n",
    "        P_ys1 = torch.sum(model(inputs[inputs[:,0]==1])) / N_s1\n",
    "        P_ys0 = torch.sum(model(inputs[inputs[:,0]==0])) / N_s0\n",
    "        # Pr[y] = sum{(xi,si)} sigma(xi,si) / |D|\n",
    "        N = inputs.shape[0]\n",
    "        P_y = torch.sum(model(inputs)) / N\n",
    "        # ln(Pr[yi|sj]/Pr[yi])\n",
    "        P_y1s1 = torch.log(P_ys1) - torch.log(P_y)\n",
    "        P_y0s1 = torch.log(1-P_ys1) - torch.log(1-P_y)\n",
    "        P_y1s0 = torch.log(P_ys0) - torch.log(P_y)\n",
    "        P_y0s0 = torch.log(1-P_ys0) - torch.log(1-P_y)\n",
    "        # M[x,y=i,s=j]*ln(Pr[yi|sj]/Pr[yi])\n",
    "        PI_y1s1 = torch.sum(model(inputs[inputs[:,0]==1]) * P_y1s1)\n",
    "        PI_y0s1 = torch.sum((1- model(inputs[inputs[:,0]==1])) * P_y0s1)\n",
    "        PI_y1s0 = torch.sum(model(inputs[inputs[:,0]==0]) * P_y1s0)\n",
    "        PI_y0s0 = torch.sum((1- model(inputs[inputs[:,0]==0]))* P_y0s0)\n",
    "        # PI\n",
    "        PI = PI_y1s1 + PI_y0s1 + PI_y1s0 + PI_y0s0\n",
    "        \n",
    "        return PI*self.eta"
   ]
  },
  {
   "cell_type": "markdown",
   "id": "806162da",
   "metadata": {},
   "source": [
    "## Define basemodel"
   ]
  },
  {
   "cell_type": "code",
   "execution_count": 13,
   "id": "25663aa4",
   "metadata": {
    "ExecuteTime": {
     "end_time": "2022-04-13T00:47:35.867920Z",
     "start_time": "2022-04-13T00:47:35.865873Z"
    }
   },
   "outputs": [],
   "source": [
    "class LogisticRegression(torch.nn.Module):\n",
    "    \n",
    "    def __init__(self, input_dim, output_dim):\n",
    "        super(LogisticRegression, self).__init__()\n",
    "        self.linear = torch.nn.Linear(input_dim, output_dim)\n",
    "        \n",
    "    def forward(self, x):\n",
    "        outputs = torch.sigmoid(self.linear(x))\n",
    "        return outputs"
   ]
  },
  {
   "cell_type": "markdown",
   "id": "07177fc5",
   "metadata": {},
   "source": [
    "## Define evaluation data list"
   ]
  },
  {
   "cell_type": "code",
   "execution_count": 14,
   "id": "a438ff43",
   "metadata": {
    "ExecuteTime": {
     "end_time": "2022-04-13T00:47:35.870339Z",
     "start_time": "2022-04-13T00:47:35.868568Z"
    }
   },
   "outputs": [],
   "source": [
    "test_acc_l, val_acc_l, train_acc_l = [],[],[]\n",
    "test_calib_l, val_calib_l, train_calib_l = [],[],[]\n",
    "test_cvs_l, val_cvs_l, train_cvs_l = [],[],[]\n",
    "test_nmi_l, val_nmi_l, train_nmi_l = [],[],[]"
   ]
  },
  {
   "cell_type": "markdown",
   "id": "8d9ee3ed",
   "metadata": {},
   "source": [
    "## Train and test model to get outputs"
   ]
  },
  {
   "cell_type": "code",
   "execution_count": 15,
   "id": "1859fedc",
   "metadata": {
    "ExecuteTime": {
     "end_time": "2022-04-13T00:47:37.080412Z",
     "start_time": "2022-04-13T00:47:35.871069Z"
    },
    "scrolled": true
   },
   "outputs": [],
   "source": [
    "model = LogisticRegression(input_dim=X_train.shape[1],output_dim=1)\n",
    "criterion = nn.BCELoss(reduction='sum')\n",
    "optimizer = torch.optim.SGD(model.parameters(), lr=0.01,weight_decay=1e-4)\n",
    "\n",
    "eta = [0,1.0,2.0,3.0,5.0,10,15,20,25,30,35,40,45,50]\n",
    "for e in eta:\n",
    "    pr = PrejudiceRemover(e)\n",
    "\n",
    "    Iterations = []\n",
    "    iter = 0\n",
    "    for epoch in range(20):\n",
    "        optimizer.zero_grad() \n",
    "        outputs_train = torch.squeeze(model(X_train))\n",
    "        loss_train = criterion(torch.squeeze(outputs_train), torch.tensor(np.array(y_train))) + pr.forward(X_train,y_train)\n",
    "        loss_train.backward()  \n",
    "        optimizer.step() \n",
    "    \n",
    "        iter+=1\n",
    "        if iter%1==0:\n",
    "            # calculate Accuracy\n",
    "            with torch.no_grad():\n",
    "                # Calculating the loss and accuracy for the test dataset\n",
    "                outputs_test = torch.squeeze(model(X_test))\n",
    "                loss_test = criterion(outputs_test, torch.tensor(np.array(y_test))) + pr.forward(X_test,y_test)\n",
    "            \n",
    "                test_acc = acc(outputs_test,y_test)\n",
    "                test_calib = calibration(outputs_test,X_test,y_test)\n",
    "                test_cvs = cvs(outputs_test,X_test)\n",
    "                test_nmi = nmi(outputs_test,X_test)\n",
    "                \n",
    "                # Calculating the loss and accuracy for the val dataset\n",
    "                outputs_val = torch.squeeze(model(X_val))\n",
    "                loss_val = criterion(outputs_val, torch.tensor(np.array(y_val))) + pr.forward(X_val,y_val)\n",
    "\n",
    "                val_acc = acc(outputs_val,y_val)\n",
    "                val_calib = calibration(outputs_val,X_val,y_val)\n",
    "                val_cvs = cvs(outputs_val,X_val)\n",
    "                val_nmi = nmi(outputs_val,X_val)\n",
    "            \n",
    "                # Calculating the loss and accuracy for the train dataset\n",
    "                train_acc = acc(outputs_train,y_train)\n",
    "                train_calib = calibration(outputs_train,X_train,y_train)\n",
    "                train_cvs = cvs(outputs_train,X_train)\n",
    "                train_nmi = nmi(torch.squeeze(outputs_train),X_train)\n",
    "                \n",
    "                Iterations.append(iter)\n",
    "    \n",
    "    test_acc_l.append(test_acc)\n",
    "    val_acc_l.append(val_acc)\n",
    "    train_acc_l.append(train_acc)\n",
    "    \n",
    "    test_calib_l.append(test_calib)\n",
    "    val_calib_l.append(val_calib)\n",
    "    train_calib_l.append(train_calib)\n",
    "    \n",
    "    test_cvs_l.append(test_cvs)\n",
    "    val_cvs_l.append(val_cvs)\n",
    "    train_cvs_l.append(train_cvs)\n",
    "    \n",
    "    test_nmi_l.append(test_nmi)\n",
    "    val_nmi_l.append(val_nmi)\n",
    "    train_nmi_l.append(train_nmi)"
   ]
  },
  {
   "cell_type": "markdown",
   "id": "2b62650e",
   "metadata": {},
   "source": [
    "# Evaluation"
   ]
  },
  {
   "cell_type": "markdown",
   "id": "71430e3d",
   "metadata": {},
   "source": [
    "## Accuracy"
   ]
  },
  {
   "cell_type": "code",
   "execution_count": 16,
   "id": "d99376c1",
   "metadata": {
    "ExecuteTime": {
     "end_time": "2022-04-13T00:47:37.135662Z",
     "start_time": "2022-04-13T00:47:37.081272Z"
    }
   },
   "outputs": [
    {
     "data": {
      "image/png": "[encoded data removed]",
      "text/plain": [
       "<Figure size 432x288 with 1 Axes>"
      ]
     },
     "metadata": {
      "needs_background": "light"
     },
     "output_type": "display_data"
    }
   ],
   "source": [
    "plt.plot(eta,test_acc_l,label='test');\n",
    "plt.plot(eta,val_acc_l,label='val');\n",
    "plt.plot(eta,train_acc_l,label='train');\n",
    "plt.title('Accuracy')\n",
    "plt.legend(loc=\"upper right\");"
   ]
  },
  {
   "cell_type": "markdown",
   "id": "6657720a",
   "metadata": {},
   "source": [
    "## CV Score / Parity"
   ]
  },
  {
   "cell_type": "code",
   "execution_count": 17,
   "id": "4a21705a",
   "metadata": {
    "ExecuteTime": {
     "end_time": "2022-04-13T00:47:37.228596Z",
     "start_time": "2022-04-13T00:47:37.136518Z"
    }
   },
   "outputs": [
    {
     "data": {
      "image/png": "[encoded data removed]",
      "text/plain": [
       "<Figure size 432x288 with 1 Axes>"
      ]
     },
     "metadata": {
      "needs_background": "light"
     },
     "output_type": "display_data"
    }
   ],
   "source": [
    "plt.plot(eta,test_cvs_l,label='test');\n",
    "plt.plot(eta,val_cvs_l,label='val');\n",
    "plt.plot(eta,train_cvs_l,label='train');\n",
    "plt.title('CV Score')\n",
    "plt.legend(loc=\"upper right\");"
   ]
  },
  {
   "cell_type": "markdown",
   "id": "5ca3fdc4",
   "metadata": {},
   "source": [
    "## NMI Score"
   ]
  },
  {
   "cell_type": "code",
   "execution_count": 18,
   "id": "a5a940b8",
   "metadata": {
    "ExecuteTime": {
     "end_time": "2022-04-13T00:47:37.279262Z",
     "start_time": "2022-04-13T00:47:37.229722Z"
    }
   },
   "outputs": [
    {
     "data": {
      "image/png": "[encoded data removed]",
      "text/plain": [
       "<Figure size 432x288 with 1 Axes>"
      ]
     },
     "metadata": {
      "needs_background": "light"
     },
     "output_type": "display_data"
    }
   ],
   "source": [
    "plt.plot(eta,test_nmi_l,label='test');\n",
    "plt.plot(eta,val_nmi_l,label='val');\n",
    "plt.plot(eta,train_nmi_l,label='train');\n",
    "plt.title('NMI')\n",
    "plt.legend(loc=\"upper right\");"
   ]
  },
  {
   "cell_type": "markdown",
   "id": "2582bc1d",
   "metadata": {},
   "source": [
    "## Calibration"
   ]
  },
  {
   "cell_type": "code",
   "execution_count": 19,
   "id": "33d7c954",
   "metadata": {
    "ExecuteTime": {
     "end_time": "2022-04-13T00:47:37.326129Z",
     "start_time": "2022-04-13T00:47:37.280130Z"
    }
   },
   "outputs": [
    {
     "data": {
      "image/png": "[encoded data removed]",
      "text/plain": [
       "<Figure size 432x288 with 1 Axes>"
      ]
     },
     "metadata": {
      "needs_background": "light"
     },
     "output_type": "display_data"
    }
   ],
   "source": [
    "plt.plot(eta,test_calib_l,label='test');\n",
    "plt.plot(eta,val_calib_l,label='val');\n",
    "plt.plot(eta,train_calib_l,label='train');\n",
    "plt.title('Calibration')\n",
    "plt.legend(loc=\"upper right\");"
   ]
  }
 ],
 "metadata": {
  "hide_input": false,
  "kernelspec": {
   "display_name": "Python 3 (ipykernel)",
   "language": "python",
   "name": "python3"
  },
  "language_info": {
   "codemirror_mode": {
    "name": "ipython",
    "version": 3
   },
   "file_extension": ".py",
   "mimetype": "text/x-python",
   "name": "python",
   "nbconvert_exporter": "python",
   "pygments_lexer": "ipython3",
   "version": "3.9.10"
  },
  "toc": {
   "base_numbering": 1,
   "nav_menu": {},
   "number_sections": true,
   "sideBar": true,
   "skip_h1_title": false,
   "title_cell": "Table of Contents",
   "title_sidebar": "Contents",
   "toc_cell": false,
   "toc_position": {},
   "toc_section_display": true,
   "toc_window_display": true
  },
  "varInspector": {
   "cols": {
    "lenName": 16,
    "lenType": 16,
    "lenVar": 40
   },
   "kernels_config": {
    "python": {
     "delete_cmd_postfix": "",
     "delete_cmd_prefix": "del ",
     "library": "var_list.py",
     "varRefreshCmd": "print(var_dic_list())"
    },
    "r": {
     "delete_cmd_postfix": ") ",
     "delete_cmd_prefix": "rm(",
     "library": "var_list.r",
     "varRefreshCmd": "cat(var_dic_list()) "
    }
   },
   "types_to_exclude": [
    "module",
    "function",
    "builtin_function_or_method",
    "instance",
    "_Feature"
   ],
   "window_display": false
  }
 },
 "nbformat": 4,
 "nbformat_minor": 5
}
